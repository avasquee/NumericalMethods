{
 "cells": [
  {
   "cell_type": "markdown",
   "metadata": {},
   "source": [
    "## Evaluación 1\n",
    "\n",
    "Resuelva los siguientes ejercicios de forma individual."
   ]
  },
  {
   "cell_type": "markdown",
   "metadata": {},
   "source": [
    "### 1. (10 %) Calculo de normas\n",
    "\n",
    "A. Calcule a mano las normas vectoriales 1, 2 y $\\infty$ de\n",
    "\n",
    "$$\n",
    "  {\\bf v}_1 = \\begin{pmatrix} 1 \\\\ 5 \\\\ -3 \\end{pmatrix}, \\quad {\\bf v}_2 = \\begin{pmatrix} 3 \\\\ -3 \\end{pmatrix}, \\quad {\\bf v}_3 = \\begin{pmatrix} -1 \\\\ 4 \\\\ -6 \\\\ 8 \\end{pmatrix}.\n",
    "$$\n",
    "\n",
    "B. Realice el código para calcular las normas vectoriales 1, 2 y $\\infty$. Pruebe el código con los vectores anteriores."
   ]
  },
  {
   "cell_type": "code",
   "execution_count": null,
   "metadata": {},
   "outputs": [],
   "source": []
  },
  {
   "cell_type": "markdown",
   "metadata": {},
   "source": [
    "### 2. (10 %) Raíces\n",
    "\n",
    "Implemente el método de Bisección para encontrar la raíz de\n",
    "\n",
    "$$\n",
    "  f(x) = \\tan (x) - e^{-x}, \\quad x \\in [0, 1].\n",
    "$$"
   ]
  },
  {
   "cell_type": "code",
   "execution_count": null,
   "metadata": {},
   "outputs": [],
   "source": []
  },
  {
   "cell_type": "markdown",
   "metadata": {},
   "source": [
    "### 3. (30 %) Algebra Lineal\n",
    "\n",
    "Escriba los pasos detallados del algoritmo de Thomas para un sistema tridiagonal. Implemente el código para el algoritmo de Thomas para un sistema tridiagonal. Pruebe este en el sistema:\n",
    "\n",
    "$$\n",
    "  \\begin{pmatrix} 62 & 8 & 0 \\\\ 24 & 28 & 53 \\\\ 0 & 49 & 91 \\end{pmatrix} {\\bf x} = \\begin{pmatrix} 3 \\\\ 2 \\\\ 1 \\end{pmatrix}.\n",
    "$$"
   ]
  },
  {
   "cell_type": "markdown",
   "metadata": {},
   "source": []
  },
  {
   "cell_type": "code",
   "execution_count": null,
   "metadata": {},
   "outputs": [],
   "source": []
  },
  {
   "cell_type": "markdown",
   "metadata": {},
   "source": [
    "### 4. (20 %) Diferenciación\n",
    "\n",
    "Muestre mediante la expansión de Taylor que la estimación de la derivada de $f(x)$ usando la diferencia hacia atrás,\n",
    "$$\n",
    "  f'(x) = \\frac{f(x) − f(x − h)}{h}\n",
    "$$\n",
    "es de primer orden de precisión.\n"
   ]
  },
  {
   "cell_type": "markdown",
   "metadata": {},
   "source": []
  },
  {
   "cell_type": "markdown",
   "metadata": {},
   "source": [
    "### 5. (30 %) Integración\n",
    "\n",
    "Escribe una única función que, dependiendo de un argumento de entrada, calcule la integral de una función de entrada $f(x)$ entre los argumentos de entrada $a, b$, usando:\n",
    "\n",
    "1. Regla de Simpson.\n",
    "2. Regla del trapecio.\n",
    "\n",
    "Prueba tu código en\n",
    "$$\n",
    "\\begin{aligned}\n",
    "  \\int_0^1 \\sin^2 ( \\pi x ) & = \\frac{1}{2}, \\\\\n",
    "  \\int_0^1 e^{-x} \\sinh ( x ) d x & \\approx 0.283833821 \\\\\n",
    "  \\int_0^1 \\frac{1}{\\sqrt{x}} d x & = 2.\n",
    "\\end{aligned}\n",
    "$$\n"
   ]
  },
  {
   "cell_type": "code",
   "execution_count": null,
   "metadata": {},
   "outputs": [],
   "source": []
  }
 ],
 "metadata": {
  "language_info": {
   "name": "python"
  }
 },
 "nbformat": 4,
 "nbformat_minor": 2
}

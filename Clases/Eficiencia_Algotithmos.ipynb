{
 "cells": [
  {
   "cell_type": "markdown",
   "id": "introduction",
   "metadata": {},
   "source": [
    "# Métodos Numéricos: Entendiendo la Eficiencia de Algoritmos\n",
    "\n",
    "## Introducción\n",
    "\n",
    "En los métodos numéricos, la eficiencia de un algoritmo es crucial para resolver problemas a gran escala dentro de marcos de tiempo razonables y con limitaciones de recursos. Comprender la eficiencia de un algoritmo nos ayuda a elegir el método más apropiado para un problema dado, optimizar algoritmos existentes y predecir costos computacionales.\n",
    "\n",
    "En este cuaderno, exploraremos:\n",
    "\n",
    "- El concepto de eficiencia de algoritmos y la notación Big O.\n",
    "- Cómo medir el tiempo de ejecución en Python.\n",
    "- Un estudio de caso comparando diferentes algoritmos para resolver sistemas lineales.\n",
    "- Visualización del tiempo de ejecución versus el tamaño del problema.\n",
    "- Discusión sobre consideraciones de uso de memoria.\n",
    "\n",
    "---"
   ]
  },
  {
   "cell_type": "markdown",
   "id": "big-o-notation",
   "metadata": {},
   "source": [
    "## 1. Complejidad Temporal y Notación Big O\n",
    "\n",
    "La eficiencia de un algoritmo a menudo se analiza utilizando la **complejidad temporal**, que describe cómo el tiempo de ejecución de un algoritmo escala con el tamaño de la entrada. La **notación Big O** es una notación matemática utilizada para clasificar algoritmos según sus tasas de crecimiento.\n",
    "\n",
    "### Complejidades Temporales Comunes:\n",
    "\n",
    "- **O(1)**: Tiempo constante\n",
    "- **O(log n)**: Tiempo logarítmico\n",
    "- **O(n)**: Tiempo lineal\n",
    "- **O(n log n)**: Tiempo lineal-logarítmico\n",
    "- **O(n²)**: Tiempo cuadrático\n",
    "- **O(2ⁿ)**: Tiempo exponencial\n",
    "\n",
    "### Ejemplos:\n",
    "\n",
    "- Acceder a un elemento en un array: **O(1)**\n",
    "- Búsqueda binaria en un array ordenado: **O(log n)**\n",
    "- Bucles anidados sobre la entrada: **O(n²)**\n",
    "\n",
    "---"
   ]
  },
  {
   "cell_type": "markdown",
   "id": "measuring-time",
   "metadata": {},
   "source": [
    "## 2. Midiendo el Tiempo de Ejecución en Python\n",
    "\n",
    "Python proporciona el módulo `timeit` para medir el tiempo de ejecución de pequeños fragmentos de código.\n",
    "\n",
    "### Ejemplo: Midiendo el Tiempo para una Función Simple"
   ]
  },
  {
   "cell_type": "code",
   "execution_count": null,
   "id": "simple-function",
   "metadata": {},
   "outputs": [],
   "source": [
    "import timeit\n",
    "\n",
    "# Definir una función simple\n",
    "def bucle_simple(n):\n",
    "    total = 0\n",
    "    for i in range(n):\n",
    "        total += i\n",
    "    return total\n",
    "\n",
    "# Medir el tiempo de ejecución\n",
    "n = 100000\n",
    "tiempo_ejecucion = timeit.timeit(lambda: bucle_simple(n), number=10)\n",
    "print(f\"Tiempo promedio de ejecución en 10 ejecuciones: {tiempo_ejecucion / 10:.6f} segundos\")"
   ]
  },
  {
   "cell_type": "markdown",
   "id": "case-study",
   "metadata": {},
   "source": [
    "---\n",
    "\n",
    "## 3. Estudio de Caso: Resolviendo Sistemas Lineales\n",
    "\n",
    "Consideremos resolver el sistema lineal **Ax = b**, donde **A** es una matriz **n x n**, y **b** es un vector de tamaño **n**.\n",
    "\n",
    "### Métodos:\n",
    "\n",
    "- **Eliminación Gaussiana**: Método directo con complejidad temporal **O(n³)**.\n",
    "- **Descomposición LU**: Factoriza la matriz **A** en matrices **L** y **U**.\n",
    "- **Métodos Iterativos**: Como los métodos de Jacobi o Gauss-Seidel, útiles para matrices grandes y dispersas.\n",
    "\n",
    "### Implementación y Comparación:"
   ]
  },
  {
   "cell_type": "code",
   "execution_count": null,
   "id": "implement-comparison",
   "metadata": {},
   "outputs": [],
   "source": [
    "import numpy as np\n",
    "from scipy.linalg import lu_solve, lu_factor\n",
    "from scipy.sparse import diags\n",
    "from scipy.sparse.linalg import cg  # Método del Gradiente Conjugado\n",
    "import time\n",
    "\n",
    "# Función para resolver usando Eliminación Gaussiana (np.linalg.solve)\n",
    "def resolver_gaussiana(A, b):\n",
    "    return np.linalg.solve(A, b)\n",
    "\n",
    "# Función para resolver usando Descomposición LU\n",
    "def resolver_lu(A, b):\n",
    "    lu, piv = lu_factor(A)\n",
    "    return lu_solve((lu, piv), b)\n",
    "\n",
    "# Función para resolver usando Método Iterativo (Gradiente Conjugado)\n",
    "def resolver_iterativo(A, b):\n",
    "    x, info = cg(A, b)\n",
    "    return x"
   ]
  },
  {
   "cell_type": "markdown",
   "id": "plotting",
   "metadata": {},
   "source": [
    "---\n",
    "\n",
    "## 4. Graficando Tiempo de Ejecución vs. Tamaño del Problema\n",
    "\n",
    "Vamos a medir y graficar el tiempo de ejecución de estos métodos para diferentes tamaños de **n**.\n",
    "\n",
    "### Código:"
   ]
  },
  {
   "cell_type": "code",
   "execution_count": null,
   "id": "plot-code",
   "metadata": {},
   "outputs": [],
   "source": [
    "import matplotlib.pyplot as plt\n",
    "\n",
    "# Tamaños del problema\n",
    "valores_n = [100, 200, 400, 800]\n",
    "\n",
    "tiempos_gaussiana = []\n",
    "tiempos_lu = []\n",
    "tiempos_iterativo = []\n",
    "\n",
    "for n in valores_n:\n",
    "    # Crear una matriz y vector aleatorios\n",
    "    A = np.random.rand(n, n)\n",
    "    b = np.random.rand(n)\n",
    "\n",
    "    # Medir tiempo de Eliminación Gaussiana\n",
    "    inicio = time.time()\n",
    "    resolver_gaussiana(A, b)\n",
    "    tiempos_gaussiana.append(time.time() - inicio)\n",
    "\n",
    "    # Medir tiempo de Descomposición LU\n",
    "    inicio = time.time()\n",
    "    resolver_lu(A, b)\n",
    "    tiempos_lu.append(time.time() - inicio)\n",
    "\n",
    "    # Medir tiempo del Método Iterativo (usando una matriz dispersa diagonal para eficiencia)\n",
    "    diagonales = [np.ones(n), np.ones(n), np.ones(n)]\n",
    "    A_dispersa = diags(diagonales, offsets=[-1, 0, 1])\n",
    "    b_dispersa = np.ones(n)\n",
    "\n",
    "    inicio = time.time()\n",
    "    resolver_iterativo(A_dispersa, b_dispersa)\n",
    "    tiempos_iterativo.append(time.time() - inicio)\n",
    "\n",
    "# Graficando\n",
    "plt.figure(figsize=(10, 6))\n",
    "plt.plot(valores_n, tiempos_gaussiana, 'o-', label='Eliminación Gaussiana')\n",
    "plt.plot(valores_n, tiempos_lu, 's-', label='Descomposición LU')\n",
    "plt.plot(valores_n, tiempos_iterativo, '^-', label='Método Iterativo')\n",
    "plt.xlabel('Tamaño de la Matriz (n)')\n",
    "plt.ylabel('Tiempo de Ejecución (segundos)')\n",
    "plt.title('Tiempo de Ejecución vs. Tamaño del Problema')\n",
    "plt.legend()\n",
    "plt.grid(True)\n",
    "plt.show()"
   ]
  },
  {
   "cell_type": "markdown",
   "id": "interpretation",
   "metadata": {},
   "source": [
    "### Interpretación:\n",
    "\n",
    "- La **Eliminación Gaussiana** y la **Descomposición LU** tienen tiempos de ejecución que aumentan rápidamente con **n**.\n",
    "- Los **Métodos Iterativos** escalan mejor para grandes valores de **n**, especialmente al tratar con matrices dispersas.\n",
    "\n",
    "---"
   ]
  },
  {
   "cell_type": "markdown",
   "id": "memory-usage",
   "metadata": {},
   "source": [
    "## 5. Uso de Memoria\n",
    "\n",
    "Además de la eficiencia temporal, el **uso de memoria** es otro factor crítico.\n",
    "\n",
    "- **Algoritmos In-situ**: Modifican los datos sin asignación adicional de memoria.\n",
    "- **Matrices Dispersas**: Utilizan estructuras de datos que almacenan solo elementos no cero para ahorrar memoria.\n",
    "\n",
    "### Ejemplo: Uso de Matrices Dispersas"
   ]
  },
  {
   "cell_type": "code",
   "execution_count": null,
   "id": "sparse-matrices",
   "metadata": {},
   "outputs": [],
   "source": [
    "from scipy.sparse import csr_matrix\n",
    "\n",
    "# Crear una matriz dispersa grande\n",
    "tamaño = 10000\n",
    "A_dispersa = csr_matrix((tamaño, tamaño))\n",
    "# Supongamos que llenamos A_dispersa con datos aquí\n",
    "\n",
    "# Ahora se pueden realizar operaciones eficientes en memoria con A_dispersa"
   ]
  },
  {
   "cell_type": "markdown",
   "id": "conclusion",
   "metadata": {},
   "source": [
    "---\n",
    "\n",
    "## Conclusión\n",
    "\n",
    "Comprender la eficiencia de los algoritmos es esencial en métodos numéricos para optimizar el rendimiento y la utilización de recursos. Al analizar la complejidad temporal y el uso de memoria, podemos tomar decisiones informadas sobre qué algoritmos son más adecuados para problemas específicos.\n",
    "\n",
    "**Puntos Clave:**\n",
    "\n",
    "- La eficiencia del algoritmo impacta el tiempo computacional y los recursos.\n",
    "- La notación Big O ayuda a clasificar algoritmos según sus tasas de crecimiento.\n",
    "- Medir el tiempo de ejecución empíricamente ayuda a entender el rendimiento en el mundo real.\n",
    "- La elección del algoritmo puede afectar significativamente el rendimiento, especialmente para tamaños de problema grandes.\n",
    "- Las consideraciones de memoria son cruciales para manejar grandes conjuntos de datos o matrices.\n",
    "\n",
    "---"
   ]
  },
  {
   "cell_type": "markdown",
   "id": "further-reading",
   "metadata": {},
   "source": [
    "## Lecturas Adicionales\n",
    "\n",
    "- **\"Análisis Numérico\"** de Richard L. Burden y J. Douglas Faires\n",
    "- **\"Introducción a los Algoritmos\"** de Thomas H. Cormen et al.\n",
    "- Documentación del módulo **timeit** de Python\n",
    "- Biblioteca SciPy para operaciones matemáticas avanzadas\n",
    "\n",
    "---"
   ]
  }
 ],
 "metadata": {
  "kernelspec": {
   "display_name": "Python 3",
   "language": "python",
   "name": "python3"
  },
  "language_info": {
   "codemirror_mode": {
    "name": "ipython",
    "version": 3
   },
   "file_extension": ".py",
   "mimetype": "text/x-python",
   "name": "python",
   "nbconvert_exporter": "python",
   "pygments_lexer": "ipython3",
   "version": "3.x"
  }
 },
 "nbformat": 4,
 "nbformat_minor": 5
}

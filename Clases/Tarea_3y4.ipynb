{
 "cells": [
  {
   "cell_type": "markdown",
   "metadata": {},
   "source": [
    "# Tareas 3 y 4 - Métodos Numericos"
   ]
  },
  {
   "cell_type": "markdown",
   "metadata": {},
   "source": [
    "## Tarea 3 - Solución Numerica de Ecuaciones Diferenciales"
   ]
  },
  {
   "cell_type": "markdown",
   "metadata": {},
   "source": [
    "**1.** (40 puntos) Aplica el método de Euler al problema de valor inicial \n",
    "\n",
    "$$  \n",
    "y' + 2y = 2 − e^{−4t}, \\qquad y(0) = 1.  \n",
    "$$\n",
    "\n",
    "Encuentra el valor de $y(1)$ (la solución analítica es $1 − \\frac{e^{−2} − e^{−4}}{2}$) y observa cómo converge tu método al variar la resolución."
   ]
  },
  {
   "cell_type": "code",
   "execution_count": null,
   "metadata": {},
   "outputs": [],
   "source": []
  },
  {
   "cell_type": "markdown",
   "metadata": {},
   "source": [
    "**2.** (40 puntos) Aplica el método estándar de RK4 al sistema anterior, verificando nuevamente la convergencia al variar la resolución."
   ]
  },
  {
   "cell_type": "code",
   "execution_count": null,
   "metadata": {},
   "outputs": [],
   "source": []
  },
  {
   "cell_type": "markdown",
   "metadata": {},
   "source": [
    "**3.** (20 puntos) Realiza un gráfico comparando las convergencias de los métodos anteriores y explica las diferencias entre los métodos de Euler y RK4."
   ]
  },
  {
   "cell_type": "code",
   "execution_count": null,
   "metadata": {},
   "outputs": [],
   "source": []
  },
  {
   "cell_type": "markdown",
   "metadata": {},
   "source": [
    "## Tarea 4 - Complejidad y Precisión de Algoritmos"
   ]
  },
  {
   "cell_type": "markdown",
   "metadata": {},
   "source": [
    "**1.** Considere los métodos numéricos para resolver sistemas de ecuaciones lineales de la forma $Ax = b$, donde $A$ es una matriz cuadrada de tamaño $n \\times n$.\n",
    "\n",
    "a) (25 puntos) Analice la complejidad computacional del método de Eliminación Gaussiana sin pivoteo. Exprese el número de operaciones necesarias en términos de $n$.\n",
    "\n",
    "b) (25 puntos) Compare la complejidad computacional del método LU con pivoteo parcial con la Eliminación Gaussiana estándar. ¿En qué condiciones uno es más eficiente que el otro?\n",
    "\n"
   ]
  },
  {
   "cell_type": "code",
   "execution_count": null,
   "metadata": {},
   "outputs": [],
   "source": []
  },
  {
   "cell_type": "markdown",
   "metadata": {},
   "source": [
    "**2.** Considere la evaluación de la función exponencial mediante su serie de Taylor:\n",
    "\n",
    "$$ e^x = \\sum_{k=0}^{\\infty} \\frac{x^k}{k!} $$\n",
    "\n",
    "a) (30 puntos) Proponga un algoritmo para calcular $e^x$ utilizando los primeros $n$ términos de la serie. Estime la complejidad computacional en términos de $n$.\n",
    "\n",
    "b) (20 puntos) Investigue cómo los errores de truncamiento y de redondeo afectan la precisión del resultado. ¿Cómo influye el valor de $x$ en estos errores?"
   ]
  },
  {
   "cell_type": "code",
   "execution_count": null,
   "metadata": {},
   "outputs": [],
   "source": []
  },
  {
   "cell_type": "markdown",
   "metadata": {},
   "source": [
    "**Instrucciones Adicionales:**\n",
    "\n",
    "- Para cada pregunta, proporcione las derivaciones matemáticas y justificaciones necesarias.\n",
    "- Incluya gráficos si son útiles para ilustrar sus puntos."
   ]
  }
 ],
 "metadata": {
  "language_info": {
   "name": "python"
  }
 },
 "nbformat": 4,
 "nbformat_minor": 2
}

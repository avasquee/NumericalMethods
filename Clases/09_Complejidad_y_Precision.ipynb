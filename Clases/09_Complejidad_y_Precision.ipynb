{
 "cells": [
  {
   "cell_type": "markdown",
   "metadata": {},
   "source": [
    "# Complejidad Algebraica y Analítica y Precisión Numérica\n",
    "\n",
    "---\n",
    "\n",
    "## Introducción\n",
    "\n",
    "En el estudio de los métodos numéricos, es esencial comprender tanto la complejidad de los algoritmos utilizados como la precisión con la que se realizan los cálculos. Este notebook se centra en dos temas fundamentales:\n",
    "\n",
    "1. **Complejidad Algebraica y Analítica:** Analiza el costo computacional de realizar operaciones matemáticas, tanto desde el punto de vista algebraico como analítico.\n",
    "\n",
    "2. **Precisión Numérica:** Examina cómo la representación de números en computadoras afecta la exactitud de los cálculos y cómo manejar los errores numéricos.\n",
    "\n",
    "---"
   ]
  },
  {
   "cell_type": "markdown",
   "metadata": {},
   "source": [
    "## Parte 1: Complejidad Algebraica y Analítica\n",
    "\n",
    "### ¿Qué es la Complejidad Algebraica?\n",
    "\n",
    "La complejidad algebraica se refiere al número mínimo de operaciones aritméticas (suma, resta, multiplicación, división) necesarias para resolver un problema matemático, sin considerar el tamaño de los números involucrados.\n",
    "\n",
    "### ¿Qué es la Complejidad Analítica?\n",
    "\n",
    "La complejidad analítica considera no solo el número de operaciones, sino también la precisión requerida y el comportamiento de los algoritmos en términos de recursos computacionales, como tiempo y memoria, especialmente en función del tamaño de la entrada.\n",
    "\n",
    "### Importancia en Métodos Numéricos\n",
    "\n",
    "En métodos numéricos, la eficiencia de un algoritmo es crucial, especialmente cuando se trabaja con grandes conjuntos de datos o se requieren cálculos rápidos.\n",
    "\n",
    "---\n",
    "\n"
   ]
  },
  {
   "cell_type": "markdown",
   "metadata": {},
   "source": [
    "### 1. Operaciones Matemáticas Básicas <a name=\"operaciones-basicas\"></a>\n",
    "\n",
    "### Suma y Resta\n",
    "\n",
    "- **Complejidad:** $O(1)$ por operación.\n",
    "- **Explicación:** Las computadoras modernas pueden realizar sumas y restas en tiempo constante para números de tamaño fijo (por ejemplo, enteros de 32 bits o 64 bits).\n",
    "\n",
    "### Multiplicación\n",
    "\n",
    "- **Complejidad:** Varía según el tamaño de los números.\n",
    "    - **Para enteros/flotantes de tamaño fijo:** $O(1)$\n",
    "    - **Para números grandes con $n$ dígitos:** El algoritmo estándar es $O(n^2)$, pero existen algoritmos optimizados.\n",
    "\n",
    "### División\n",
    "\n",
    "- **Complejidad:** Similar a la multiplicación.\n",
    "    - **Números de tamaño fijo:** $O(1)$\n",
    "    - **Números grandes:** El algoritmo estándar es $O(n^2)$\n",
    "\n",
    "### Exponenciación y Raíces\n",
    "\n",
    "- **Exponenciación:**\n",
    "    - **Método ingenuo:** $O(n)$ multiplicaciones para exponente  $n$\n",
    "    - **Exponenciación por potenciación:** $O(\\log n)$\n",
    "- **Raíces (por ejemplo, raíces cuadradas):**\n",
    "    - **Método de Newton-Raphson:** Método iterativo con complejidad dependiendo de la precisión deseada.\n",
    "\n",
    "---\n",
    "\n",
    "### 2. Funciones Matemáticas Complejas\n",
    "\n",
    "### Logaritmos\n",
    "\n",
    "- **Complejidad:** $O(1)$ para funciones implementadas en hardware.\n",
    "- **Explicación:** La mayoría de las CPU tienen instrucciones integradas o bibliotecas optimizadas para funciones logarítmicas.\n",
    "\n",
    "### Funciones Trigonométricas\n",
    "\n",
    "- **Complejidad:** $O(1)$ usando implementaciones en hardware o software optimizado como los algoritmos CORDIC.\n",
    "\n",
    "---\n",
    "\n",
    "### 3. Operaciones con Matrices\n",
    "\n",
    "### Suma y Resta de Matrices\n",
    "\n",
    "- **Complejidad:** $O(n^2)$ para dos matrices $n \\times n$.\n",
    "- **Explicación:** Cada elemento se suma o resta individualmente.\n",
    "\n",
    "```python\n",
    "import numpy as np\n",
    "\n",
    "def suma_matrices(A, B):\n",
    "    return A + B\n",
    "```\n",
    "\n",
    "### Multiplicación de Matrices\n",
    "\n",
    "- **Algoritmo Estándar:**\n",
    "    - **Complejidad:**  $O(n^3)$\n",
    "- **Algoritmos Optimizados:**\n",
    "    - **Algoritmo de Strassen:** $O(n^{2.81})$\n",
    "    - **Algoritmo de Coppersmith-Winograd:** Aproximadamente $O(n^{2.376})$\n",
    "\n",
    "```python\n",
    "def multiplicacion_matrices_estandar(A, B):\n",
    "    return np.dot(A, B)\n",
    "```\n",
    "\n",
    "### Inversión de Matrices\n",
    "\n",
    "- **Complejidad:** Aproximadamente $O(n^3)$\n",
    "- **Explicación:** Involucra resolver $n$ sistemas lineales.\n",
    "\n",
    "### Solución de Sistemas Lineales\n",
    "\n",
    "- **Eliminación Gaussiana:**\n",
    "    - **Complejidad:** $O(n^3)$\n",
    "- **Descomposición LU:**\n",
    "    - **Complejidad:** $O(n^3)$\n",
    "- **Métodos Iterativos (por ejemplo, Gradiente Conjugado):**\n",
    "    - **Complejidad:** Depende del sistema; a menudo $O(n^2)$ por iteración.\n",
    "\n",
    "---\n",
    "\n",
    "### 4. Algoritmos Avanzados <a name=\"algoritmos-avanzados\"></a>\n",
    "\n",
    "### Transformada Rápida de Fourier (FFT)\n",
    "\n",
    "Transforma una secuencia en sus componentes de frecuencia de manera eficiente.\n",
    "\n",
    "- **Complejidad:** $O(n \\log n)$\n",
    "\n",
    "```python\n",
    "from numpy.fft import fft\n",
    "\n",
    "def calcular_fft(señal):\n",
    "    return fft(señal)\n",
    "```\n",
    "\n",
    "### Multiplicación de Matrices de Strassen\n",
    "\n",
    "Reduce la complejidad de la multiplicación de matrices.\n",
    "\n",
    "- **Complejidad:** $O(n^{2.81})$\n",
    "\n",
    "---"
   ]
  },
  {
   "cell_type": "markdown",
   "metadata": {},
   "source": [
    "### Ejemplo: Multiplicación de Matrices\n",
    "\n",
    "Consideremos la multiplicación de dos matrices cuadradas de tamaño \\( n \\times n \\).\n",
    "\n",
    "#### Método Clásico\n",
    "\n",
    "El método clásico requiere \\( n^3 \\) multiplicaciones."
   ]
  },
  {
   "cell_type": "code",
   "execution_count": 2,
   "metadata": {},
   "outputs": [],
   "source": [
    "import numpy as np\n",
    "\n",
    "def multiplicacion_matrices_clasica(A, B):\n",
    "    n = A.shape[0]\n",
    "    C = np.zeros((n, n))\n",
    "    for i in range(n):\n",
    "        for j in range(n):\n",
    "            for k in range(n):\n",
    "                C[i, j] += A[i, k] * B[k, j]\n",
    "    return C"
   ]
  },
  {
   "cell_type": "markdown",
   "metadata": {},
   "source": [
    "**Complejidad Algebraica:** \\( O(n^3) \\)"
   ]
  },
  {
   "cell_type": "markdown",
   "metadata": {},
   "source": [
    "#### Método de Strassen\n",
    "\n",
    "El algoritmo de Strassen reduce el número de multiplicaciones a aproximadamente  $n^{2.81}$.\n",
    "\n",
    "Se basa en el método Divide and Conquer\n",
    "\n",
    "<p align=\"center\">\n",
    "<image src=\"strassen_new.png\" alt=\"Descripción de la imagen\">\n",
    "</p>\n",
    "\n",
    "Y usa el siguiente esquema\n",
    "\n",
    "\n",
    "<p align=\"center\">\n",
    "<image src=\"stressen_formula_new_new.png\" alt=\"Descripción de la imagen\">\n",
    "</p>"
   ]
  },
  {
   "cell_type": "code",
   "execution_count": 5,
   "metadata": {},
   "outputs": [],
   "source": [
    "def multiplicacion_matrices_strassen(A, B):\n",
    "    n = len(A)\n",
    "    \n",
    "    if n <= 2:  # Base case\n",
    "        return np.dot(A, B)\n",
    "    \n",
    "    # Partition matrices into submatrices\n",
    "    mid = n // 2\n",
    "    A11 = A[:mid, :mid]\n",
    "    A12 = A[:mid, mid:]\n",
    "    A21 = A[mid:, :mid]\n",
    "    A22 = A[mid:, mid:]\n",
    "    B11 = B[:mid, :mid]\n",
    "    B12 = B[:mid, mid:]\n",
    "    B21 = B[mid:, :mid]\n",
    "    B22 = B[mid:, mid:]\n",
    "    \n",
    "    # Recursive multiplication\n",
    "    P1 = multiplicacion_matrices_strassen(A11, B12 - B22)\n",
    "    P2 = multiplicacion_matrices_strassen(A11 + A12, B22)\n",
    "    P3 = multiplicacion_matrices_strassen(A21 + A22, B11)\n",
    "    P4 = multiplicacion_matrices_strassen(A22, B21 - B11)\n",
    "    P5 = multiplicacion_matrices_strassen(A11 + A22, B11 + B22)\n",
    "    P6 = multiplicacion_matrices_strassen(A12 - A22, B21 + B22)\n",
    "    P7 = multiplicacion_matrices_strassen(A11 - A21, B11 + B12)\n",
    "    \n",
    "    # Combine results to form C\n",
    "    C11 = P5 + P4 - P2 + P6\n",
    "    C12 = P1 + P2\n",
    "    C21 = P3 + P4\n",
    "    C22 = P5 + P1 - P3 - P7\n",
    "    \n",
    "    # Combine quadrants to form C\n",
    "    C = np.vstack((np.hstack((C11, C12)), np.hstack((C21, C22))))\n",
    "    return C"
   ]
  },
  {
   "cell_type": "markdown",
   "metadata": {},
   "source": [
    "**Complejidad Algebraica:** Aproximadamente $O(n^{2.81})$"
   ]
  },
  {
   "cell_type": "markdown",
   "metadata": {},
   "source": [
    "#### Comparación de Métodos\n",
    "\n",
    "Veamos cómo se comportan ambos métodos en términos de tiempo de ejecución."
   ]
  },
  {
   "cell_type": "code",
   "execution_count": 8,
   "metadata": {},
   "outputs": [
    {
     "data": {
      "image/png": "[encoded data removed]",
      "text/plain": [
       "<Figure size 640x480 with 1 Axes>"
      ]
     },
     "metadata": {},
     "output_type": "display_data"
    }
   ],
   "source": [
    "import time\n",
    "import matplotlib.pyplot as plt\n",
    "\n",
    "# Tamaños de matrices\n",
    "tamaños = [2**i for i in range(1, 7)]\n",
    "tiempos_clasico = []\n",
    "tiempos_strassen = []\n",
    "\n",
    "for n in tamaños:\n",
    "    A = np.random.rand(n, n)\n",
    "    B = np.random.rand(n, n)\n",
    "    \n",
    "    # Método clásico\n",
    "    inicio = time.time()\n",
    "    multiplicacion_matrices_clasica(A, B)\n",
    "    fin = time.time()\n",
    "    tiempos_clasico.append(fin - inicio)\n",
    "    \n",
    "    # Método de Strassen\n",
    "    inicio = time.time()\n",
    "    multiplicacion_matrices_strassen(A, B)\n",
    "    fin = time.time()\n",
    "    tiempos_strassen.append(fin - inicio)\n",
    "\n",
    "# Graficar resultados\n",
    "plt.plot(tamaños, tiempos_clasico, label='Clásico')\n",
    "plt.plot(tamaños, tiempos_strassen, label='Strassen')\n",
    "plt.xlabel('Tamaño de la matriz (n)')\n",
    "plt.ylabel('Tiempo de ejecución (s)')\n",
    "plt.title('Comparación de Multiplicación de Matrices')\n",
    "plt.legend()\n",
    "plt.show()"
   ]
  },
  {
   "cell_type": "markdown",
   "metadata": {},
   "source": [
    "**Nota:** La implementación de Strassen es recursiva y más eficiente para matrices grandes. Para matrices pequeñas, el overhead de la recursión puede hacerlo más lento que el método clásico.\n",
    "\n",
    "---"
   ]
  },
  {
   "cell_type": "markdown",
   "metadata": {},
   "source": [
    "### Complejidad en Solución de Sistemas Lineales\n",
    "\n",
    "Resolver un sistema de ecuaciones lineales es una tarea común en métodos numéricos.\n",
    "\n",
    "#### Método de Eliminación Gaussiana\n",
    "\n",
    "**Complejidad Algebraica:** \\( O(n^3) \\)"
   ]
  },
  {
   "cell_type": "code",
   "execution_count": 4,
   "metadata": {},
   "outputs": [],
   "source": [
    "def eliminacion_gaussiana(A, b):\n",
    "    n = len(b)\n",
    "    # Eliminación\n",
    "    for k in range(n):\n",
    "        for i in range(k+1, n):\n",
    "            factor = A[i][k] / A[k][k]\n",
    "            for j in range(k, n):\n",
    "                A[i][j] -= factor * A[k][j]\n",
    "            b[i] -= factor * b[k]\n",
    "    # Sustitución hacia atrás\n",
    "    x = [0 for _ in range(n)]\n",
    "    for i in range(n-1, -1, -1):\n",
    "        suma = sum(A[i][j] * x[j] for j in range(i+1, n))\n",
    "        x[i] = (b[i] - suma) / A[i][i]\n",
    "    return x"
   ]
  },
  {
   "cell_type": "markdown",
   "metadata": {},
   "source": [
    "---\n",
    "\n",
    "## Parte 2: Precisión Numérica\n",
    "\n",
    "### Representación de Números en Computadora\n",
    "\n",
    "Las computadoras utilizan el sistema de punto flotante para representar números reales, lo que introduce errores de redondeo y truncamiento.\n",
    "\n",
    "### Sistema de Punto Flotante\n",
    "\n",
    "Un número en punto flotante se representa como:\n",
    "\n",
    "$$\n",
    "\\text{Número} = \\pm (1 + \\text{fracción}) \\times 2^{\\text{exponente}}\n",
    "$$\n",
    "\n",
    "### Precisión Simple y Doble\n",
    "\n",
    "- **Precisión Simple (32 bits):** Aproximadamente 7 dígitos decimales significativos.\n",
    "- **Precisión Doble (64 bits):** Aproximadamente 16 dígitos decimales significativos.\n",
    "\n",
    "### Error de Redondeo y Machine Epsilon\n",
    "\n",
    "El **epsilon de la máquina** $( \\epsilon_{\\text{máquina}} )$ es el número más pequeño tal que:\n",
    "\n",
    "$$\n",
    "1 + \\epsilon_{\\text{máquina}} \\neq 1\n",
    "$$\n",
    "\n",
    "En Python, podemos encontrar este valor usando el módulo `sys`.\n"
   ]
  },
  {
   "cell_type": "code",
   "execution_count": 9,
   "metadata": {},
   "outputs": [
    {
     "name": "stdout",
     "output_type": "stream",
     "text": [
      "Epsilon de la máquina: 2.220446049250313e-16\n"
     ]
    }
   ],
   "source": [
    "import sys\n",
    "print(\"Epsilon de la máquina:\", sys.float_info.epsilon)"
   ]
  },
  {
   "cell_type": "markdown",
   "metadata": {},
   "source": [
    "### Propagación de Errores\n",
    "\n",
    "Los errores numéricos pueden acumularse y amplificarse en cálculos sucesivos.\n",
    "\n",
    "#### Ejemplo: Suma de Números Pequeños y Grandes"
   ]
  },
  {
   "cell_type": "code",
   "execution_count": 12,
   "metadata": {},
   "outputs": [
    {
     "name": "stdout",
     "output_type": "stream",
     "text": [
      "Suma: 1e+16\n"
     ]
    }
   ],
   "source": [
    "# Suma de un número grande con números pequeños\n",
    "suma = 1e16\n",
    "for _ in range(1000):\n",
    "    suma += 1e-3\n",
    "print(\"Suma:\", suma)"
   ]
  },
  {
   "cell_type": "markdown",
   "metadata": {},
   "source": [
    "**Problema:** Los números pequeños pueden no afectar el resultado debido a la limitación en la precisión.\n",
    "\n",
    "---\n",
    "\n",
    "### Ejemplo Práctico: Cancelación Numérica\n",
    "\n",
    "La cancelación numérica ocurre cuando se restan dos números muy cercanos, lo que resulta en una pérdida de dígitos significativos.\n",
    "\n",
    "#### Ejemplo: Calcular \n",
    "$$\n",
    "f(x) = \\frac{1 - \\cos(x)}{x^2} \n",
    "$$\n",
    "para x pequeño"
   ]
  },
  {
   "cell_type": "code",
   "execution_count": 13,
   "metadata": {},
   "outputs": [
    {
     "name": "stdout",
     "output_type": "stream",
     "text": [
      "x = 1.0e-01, f(x) = 4.99583e-01\n",
      "x = 1.0e-02, f(x) = 4.99996e-01\n",
      "x = 1.0e-03, f(x) = 5.00000e-01\n",
      "x = 1.0e-04, f(x) = 5.00000e-01\n",
      "x = 1.0e-05, f(x) = 5.00000e-01\n",
      "x = 1.0e-06, f(x) = 5.00044e-01\n",
      "x = 1.0e-07, f(x) = 4.99600e-01\n",
      "x = 1.0e-08, f(x) = 0.00000e+00\n",
      "x = 1.0e-09, f(x) = 0.00000e+00\n",
      "x = 1.0e-10, f(x) = 0.00000e+00\n"
     ]
    }
   ],
   "source": [
    "import numpy as np\n",
    "\n",
    "def f_mal_condicionada(x):\n",
    "    return (1 - np.cos(x)) / x**2\n",
    "\n",
    "x_vals = np.logspace(-1, -10, 10)\n",
    "f_vals = f_mal_condicionada(x_vals)\n",
    "\n",
    "for x, f in zip(x_vals, f_vals):\n",
    "    print(f\"x = {x:.1e}, f(x) = {f:.5e}\")"
   ]
  },
  {
   "cell_type": "markdown",
   "metadata": {},
   "source": [
    "#### Solución: Usar Series de Taylor\n",
    "\n",
    "Podemos utilizar la aproximación:\n",
    "\n",
    "$$\n",
    "1 - \\cos(x) \\approx \\frac{x^2}{2} - \\frac{x^4}{24} + \\cdots\n",
    "$$\n",
    "\n",
    "Entonces:\n",
    "\n",
    "$$\n",
    "f(x) = \\frac{1 - \\cos(x)}{x^2} \\approx \\frac{1}{2} - \\frac{x^2}{24} + \\cdots\n",
    "$$"
   ]
  },
  {
   "cell_type": "code",
   "execution_count": 8,
   "metadata": {},
   "outputs": [
    {
     "name": "stdout",
     "output_type": "stream",
     "text": [
      "x = 1.0e-01, f(x) ≈ 4.99583e-01\n",
      "x = 1.0e-02, f(x) ≈ 4.99996e-01\n",
      "x = 1.0e-03, f(x) ≈ 5.00000e-01\n",
      "x = 1.0e-04, f(x) ≈ 5.00000e-01\n",
      "x = 1.0e-05, f(x) ≈ 5.00000e-01\n",
      "x = 1.0e-06, f(x) ≈ 5.00000e-01\n",
      "x = 1.0e-07, f(x) ≈ 5.00000e-01\n",
      "x = 1.0e-08, f(x) ≈ 5.00000e-01\n",
      "x = 1.0e-09, f(x) ≈ 5.00000e-01\n",
      "x = 1.0e-10, f(x) ≈ 5.00000e-01\n"
     ]
    }
   ],
   "source": [
    "def f_bien_condicionada(x):\n",
    "    return 0.5 - x**2 / 24\n",
    "\n",
    "f_vals_taylor = f_bien_condicionada(x_vals)\n",
    "\n",
    "for x, f in zip(x_vals, f_vals_taylor):\n",
    "    print(f\"x = {x:.1e}, f(x) ≈ {f:.5e}\")"
   ]
  },
  {
   "cell_type": "markdown",
   "metadata": {},
   "source": [
    "**Observación:** La versión utilizando la serie de Taylor es más precisa para valores pequeños de $x$."
   ]
  }
 ],
 "metadata": {
  "kernelspec": {
   "display_name": "base",
   "language": "python",
   "name": "python3"
  },
  "language_info": {
   "codemirror_mode": {
    "name": "ipython",
    "version": 3
   },
   "file_extension": ".py",
   "mimetype": "text/x-python",
   "name": "python",
   "nbconvert_exporter": "python",
   "pygments_lexer": "ipython3",
   "version": "3.10.13"
  }
 },
 "nbformat": 4,
 "nbformat_minor": 2
}

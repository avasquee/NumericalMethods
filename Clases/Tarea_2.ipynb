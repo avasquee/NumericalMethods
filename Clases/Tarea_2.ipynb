{
 "cells": [
  {
   "cell_type": "markdown",
   "metadata": {},
   "source": [
    "# Tarea 2 - Métodos Numéricos\n",
    "\n",
    "## Optimización e Interpolación"
   ]
  },
  {
   "cell_type": "markdown",
   "metadata": {},
   "source": [
    "### 1. Preguntas Conceptuales\n",
    "\n",
    "1. (5 puntos) ¿Cuál es la diferencia entre una cota y una restricción?"
   ]
  },
  {
   "cell_type": "markdown",
   "metadata": {},
   "source": []
  },
  {
   "cell_type": "markdown",
   "metadata": {},
   "source": [
    "2. (5 puntos) ¿Qué debes considerar antes de elegir un método de minimización?"
   ]
  },
  {
   "cell_type": "markdown",
   "metadata": {},
   "source": []
  },
  {
   "cell_type": "markdown",
   "metadata": {},
   "source": [
    "3. (5 puntos) Da un ejemplo de un problema no convexo que podrías encontrar en ingeniería de software."
   ]
  },
  {
   "cell_type": "markdown",
   "metadata": {},
   "source": []
  },
  {
   "cell_type": "markdown",
   "metadata": {},
   "source": [
    "### 2. Problemas de Optimización\n",
    "\n",
    "Resuelve y grafica las siguientes expresiones usando Python. Coloca un punto rojo en tu solución.\n",
    "\n"
   ]
  },
  {
   "cell_type": "markdown",
   "metadata": {},
   "source": [
    "1. (10 puntos) Encuentra el mínimo de esta expresión con $r$ limitado en el intervalo $[0.9,3]$\n",
    "\n",
    "$$\n",
    "4\\left[\\frac{1}{r^8} - \\frac{1}{r^4}\\right]\n",
    "$$"
   ]
  },
  {
   "cell_type": "code",
   "execution_count": null,
   "metadata": {},
   "outputs": [],
   "source": []
  },
  {
   "cell_type": "markdown",
   "metadata": {},
   "source": [
    "2. (10 puntos) Encuentra el valor mínimo de la siguiente expresión:\n",
    "\n",
    "$$\n",
    "x^4 - x^2 - x\n",
    "$$\n"
   ]
  },
  {
   "cell_type": "code",
   "execution_count": null,
   "metadata": {},
   "outputs": [],
   "source": []
  },
  {
   "cell_type": "markdown",
   "metadata": {},
   "source": [
    "3. (10 puntos) Toma $p$ como una probabilidad. Encuentra el valor máximo de la siguiente expresión:\n",
    "\n",
    "$$\n",
    "p^{8} (1 - p)^{2}\n",
    "$$"
   ]
  },
  {
   "cell_type": "code",
   "execution_count": null,
   "metadata": {},
   "outputs": [],
   "source": []
  },
  {
   "cell_type": "markdown",
   "metadata": {},
   "source": [
    "4. (15 puntos) Minimiza el siguiente problema donde $x$ y $y$ están limitados a estar entre $-\\pi$ y $\\pi$.\n",
    "\n",
    "$$\n",
    "\\cos 3.1x \\sin 5.2y + \\frac{(x + y - 2)^2}{250}\n",
    "$$"
   ]
  },
  {
   "cell_type": "code",
   "execution_count": null,
   "metadata": {},
   "outputs": [],
   "source": []
  },
  {
   "cell_type": "markdown",
   "metadata": {},
   "source": [
    "5. (15 puntos) Maximiza la siguiente ecuación sujeta a las siguientes restricciones $x_0 > 0$, $x_1 > 0$, $x_0 + x_1 = 1$. No es necesario graficar esto.\n",
    "\n",
    "$$\n",
    "f(x_0, x_1) = e^{-(x_0 - 4)^2}e^{-(x_1 + 2)^2}\n",
    "$$"
   ]
  },
  {
   "cell_type": "code",
   "execution_count": null,
   "metadata": {},
   "outputs": [],
   "source": []
  },
  {
   "cell_type": "markdown",
   "metadata": {},
   "source": [
    "### 3. Problemas de Interpolación\n",
    "\n",
    "1. (25 puntos) A continuación se muestra un extracto de datos de valores en un registro sísmico.\n",
    "\n",
    "|  Tiempo (ms)  |  Disparo  |\n",
    "|-----|-----|\n",
    "| 0   | -0.021373 |\n",
    "| 4   | -0.024578 |\n",
    "| 8   | -0.023914 |\n",
    "| 12  | -0.018227 |\n",
    "| 16  | -0.00781  |\n",
    "| 20  | 0.005602  |\n",
    "| 24  | 0.019264  |\n",
    "| 28  | 0.030235  |\n",
    "| 32  | 0.036059  |\n",
    "| 36  | 0.035334  |\n",
    "\n",
    "Calcula el polinomio de Lagrange para estos puntos. Grafica tanto el polinomio de Lagrange como los puntos de datos originales. El registro completo está disponible en el archivo **registro.txt**, donde el intervalo de muestreo es de 4 ms como en el ejemplo anterior. Ten en cuenta que el archivo solo contiene una columna, ya que puedes calcular la columna de tiempo por ti mismo."
   ]
  },
  {
   "cell_type": "code",
   "execution_count": null,
   "metadata": {},
   "outputs": [],
   "source": []
  }
 ],
 "metadata": {
  "language_info": {
   "name": "python"
  }
 },
 "nbformat": 4,
 "nbformat_minor": 2
}

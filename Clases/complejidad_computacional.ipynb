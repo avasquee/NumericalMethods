{
 "cells": [
  {
   "cell_type": "markdown",
   "id": "introduction",
   "metadata": {},
   "source": [
    "# Computational Complexity\n",
    "\n",
    "## Introduction\n",
    "\n",
    "Computational complexity is a field in computer science that studies the resources required for algorithms to solve computational problems. It primarily focuses on time and space complexity, which measure how an algorithm's runtime or memory usage grows as the size of the input increases.\n",
    "\n",
    "In this notebook, we'll explore:\n",
    "\n",
    "- Time complexity and Big O notation\n",
    "- Common time complexities with examples\n",
    "- Space complexity\n",
    "- Practical examples and code demonstrations\n",
    "\n",
    "---"
   ]
  },
  {
   "cell_type": "markdown",
   "id": "big-o-notation",
   "metadata": {},
   "source": [
    "## 1. Time Complexity and Big O Notation\n",
    "\n",
    "### What is Time Complexity?\n",
    "\n",
    "Time complexity describes the amount of time an algorithm takes to run as a function of the length of the input. It's an estimation of how the runtime increases with input size.\n",
    "\n",
    "### Big O Notation\n",
    "\n",
    "Big O notation provides an upper bound on the time complexity of an algorithm. It characterizes functions according to their growth rates.\n",
    "\n",
    "Formally, a function \\( f(n) \\) is said to be \\( O(g(n)) \\) if there are positive constants \\( c \\) and \\( n_0 \\) such that:\n",
    "\n",
    "\\[\n",
    "0 \\leq f(n) \\leq c \\cdot g(n) \\quad \\text{for all} \\ n \\geq n_0\n",
    "\\]\n",
    "\n",
    "### Common Time Complexities\n",
    "\n",
    "| Notation       | Name              |\n",
    "|----------------|-------------------|\n",
    "| O(1)          | Constant          |\n",
    "| O(log n)      | Logarithmic       |\n",
    "| O(n)          | Linear            |\n",
    "| O(n log n)    | Linearithmic      |\n",
    "| O(n^2)        | Quadratic         |\n",
    "| O(n^3)        | Cubic             |\n",
    "| O(2^n)        | Exponential       |\n",
    "| O(n!)         | Factorial         |\n",
    "\n",
    "---"
   ]
  },
  {
   "cell_type": "markdown",
   "id": "constant-time",
   "metadata": {},
   "source": [
    "## 2. Examples of Time Complexities\n",
    "\n",
    "### 2.1 Constant Time - O(1)\n",
    "\n",
    "An algorithm is said to have constant time complexity when its execution time doesn't depend on the size of the input data.\n",
    "\n",
    "**Example:** Accessing an element in an array by index."
   ]
  },
  {
   "cell_type": "code",
   "execution_count": null,
   "id": "constant-time-code",
   "metadata": {},
   "outputs": [],
   "source": [
    "# Accessing the first element of a list\n",
    "def get_first_element(lst):\n",
    "    return lst[0]\n",
    "\n",
    "sample_list = [1, 2, 3, 4, 5]\n",
    "print(get_first_element(sample_list))"
   ]
  },
  {
   "cell_type": "markdown",
   "id": "logarithmic-time",
   "metadata": {},
   "source": [
    "### 2.2 Logarithmic Time - O(log n)\n",
    "\n",
    "Algorithms that reduce the problem size with each step, such as binary search, have logarithmic time complexity."
   ]
  },
  {
   "cell_type": "code",
   "execution_count": null,
   "id": "binary-search",
   "metadata": {},
   "outputs": [],
   "source": [
    "# Binary search implementation\n",
    "def binary_search(arr, target):\n",
    "    left, right = 0, len(arr) - 1\n",
    "    while left <= right:\n",
    "        mid = (left + right) // 2\n",
    "        if arr[mid] == target:\n",
    "            return mid\n",
    "        elif arr[mid] < target:\n",
    "            left = mid + 1\n",
    "        else:\n",
    "            right = mid - 1\n",
    "    return -1\n",
    "\n",
    "sorted_list = [1, 3, 5, 7, 9, 11]\n",
    "print(binary_search(sorted_list, 7))  # Output: 3"
   ]
  },
  {
   "cell_type": "markdown",
   "id": "linear-time",
   "metadata": {},
   "source": [
    "### 2.3 Linear Time - O(n)\n",
    "\n",
    "An algorithm is linear if the execution time grows linearly with the input size.\n",
    "\n",
    "**Example:** Finding the maximum element in a list."
   ]
  },
  {
   "cell_type": "code",
   "execution_count": null,
   "id": "find-max",
   "metadata": {},
   "outputs": [],
   "source": [
    "# Find the maximum element\n",
    "def find_maximum(arr):\n",
    "    max_value = arr[0]\n",
    "    for num in arr:\n",
    "        if num > max_value:\n",
    "            max_value = num\n",
    "    return max_value\n",
    "\n",
    "numbers = [5, 1, 8, 3, 2]\n",
    "print(find_maximum(numbers))  # Output: 8"
   ]
  },
  {
   "cell_type": "markdown",
   "id": "quadratic-time",
   "metadata": {},
   "source": [
    "### 2.4 Quadratic Time - O(n^2)\n",
    "\n",
    "Algorithms with nested loops over the input data have quadratic time complexity.\n",
    "\n",
    "**Example:** Bubble sort algorithm."
   ]
  },
  {
   "cell_type": "code",
   "execution_count": null,
   "id": "bubble-sort",
   "metadata": {},
   "outputs": [],
   "source": [
    "# Bubble sort implementation\n",
    "def bubble_sort(arr):\n",
    "    n = len(arr)\n",
    "    for i in range(n):\n",
    "        for j in range(0, n - i - 1):\n",
    "            if arr[j] > arr[j + 1]:\n",
    "                arr[j], arr[j + 1] = arr[j + 1], arr[j]\n",
    "    return arr\n",
    "\n",
    "unsorted_list = [64, 34, 25, 12, 22, 11, 90]\n",
    "print(bubble_sort(unsorted_list))"
   ]
  },
  {
   "cell_type": "markdown",
   "id": "exponential-time",
   "metadata": {},
   "source": [
    "### 2.5 Exponential Time - O(2^n)\n",
    "\n",
    "Algorithms where the growth doubles with each addition to the input data set have exponential time complexity.\n",
    "\n",
    "**Example:** Recursive calculation of Fibonacci numbers."
   ]
  },
  {
   "cell_type": "code",
   "execution_count": null,
   "id": "fibonacci",
   "metadata": {},
   "outputs": [],
   "source": [
    "# Recursive Fibonacci\n",
    "def fibonacci(n):\n",
    "    if n <= 1:\n",
    "        return n\n",
    "    else:\n",
    "        return fibonacci(n - 1) + fibonacci(n - 2)\n",
    "\n",
    "print(fibonacci(5))  # Output: 5"
   ]
  },
  {
   "cell_type": "markdown",
   "id": "space-complexity",
   "metadata": {},
   "source": [
    "## 3. Space Complexity\n",
    "\n",
    "Space complexity refers to the amount of memory an algorithm needs in terms of the size of the input data.\n",
    "\n",
    "### Example: O(1) Space Complexity\n",
    "\n",
    "An algorithm uses constant space if the memory required doesn't grow with the input size.\n",
    "\n",
    "**Example:** Swapping two variables."
   ]
  },
  {
   "cell_type": "code",
   "execution_count": null,
   "id": "swap-variables",
   "metadata": {},
   "outputs": [],
   "source": [
    "# Swapping variables uses constant space\n",
    "a = 5\n",
    "b = 10\n",
    "a, b = b, a\n",
    "print(a, b)  # Output: 10 5"
   ]
  },
  {
   "cell_type": "markdown",
   "id": "linear-space",
   "metadata": {},
   "source": [
    "### Example: O(n) Space Complexity\n",
    "\n",
    "An algorithm uses linear space if the memory required grows linearly with the input size.\n",
    "\n",
    "**Example:** Creating a copy of a list."
   ]
  },
  {
   "cell_type": "code",
   "execution_count": null,
   "id": "copy-list",
   "metadata": {},
   "outputs": [],
   "source": [
    "# Copying a list uses O(n) space\n",
    "original_list = [1, 2, 3, 4, 5]\n",
    "copied_list = original_list.copy()\n",
    "print(copied_list)"
   ]
  },
  {
   "cell_type": "markdown",
   "id": "practical-example",
   "metadata": {},
   "source": [
    "## 4. Practical Example\n",
    "\n",
    "Let's analyze the time complexity of an algorithm that checks for duplicates in a list."
   ]
  },
  {
   "cell_type": "code",
   "execution_count": null,
   "id": "check-duplicates",
   "metadata": {},
   "outputs": [],
   "source": [
    "# Checking for duplicates\n",
    "def has_duplicates(lst):\n",
    "    seen = set()\n",
    "    for item in lst:\n",
    "        if item in seen:\n",
    "            return True\n",
    "        seen.add(item)\n",
    "    return False\n",
    "\n",
    "sample_list = [1, 2, 3, 4, 5, 3]\n",
    "print(has_duplicates(sample_list))  # Output: True"
   ]
  },
  {
   "cell_type": "markdown",
   "id": "analysis",
   "metadata": {},
   "source": [
    "### Analysis\n",
    "\n",
    "- **Time Complexity:** O(n), since we traverse the list once.\n",
    "- **Space Complexity:** O(n), because we store elements in a set."
   ]
  },
  {
   "cell_type": "markdown",
   "id": "conclusion",
   "metadata": {},
   "source": [
    "## 5. Conclusion\n",
    "\n",
    "Understanding computational complexity is essential for writing efficient algorithms. By analyzing time and space complexity, developers can predict how algorithms will scale and optimize them accordingly.\n",
    "\n",
    "---\n",
    "\n",
    "### Key Takeaways\n",
    "\n",
    "- **Time Complexity** measures how the runtime of an algorithm grows with input size.\n",
    "- **Space Complexity** measures how the memory usage of an algorithm grows with input size.\n",
    "- **Big O Notation** provides an upper bound on the growth rate of a function.\n",
    "- Analyze both time and space complexity for a comprehensive understanding of an algorithm's efficiency."
   ]
  },
  {
   "cell_type": "markdown",
   "id": "additional-resources",
   "metadata": {},
   "source": [
    "## 6. Additional Resources\n",
    "\n",
    "- **Books:**\n",
    "  - *Introduction to Algorithms* by Cormen, Leiserson, Rivest, and Stein\n",
    "  - *Algorithms* by Robert Sedgewick and Kevin Wayne\n",
    "- **Online Courses:**\n",
    "  - Coursera's *Algorithms* course series\n",
    "  - MIT OpenCourseWare on *Introduction to Algorithms*\n",
    "- **Websites:**\n",
    "  - [Big O Cheat Sheet](https://www.bigocheatsheet.com/)\n",
    "  - [VisuAlgo](https://visualgo.net/en) for algorithm visualizations"
   ]
  }
 ],
 "metadata": {
  "kernelspec": {
   "display_name": "Python 3",
   "language": "python",
   "name": "python3"
  },
  "language_info": {
   "codemirror_mode": {
    "name": "ipython",
    "version": 3
   },
   "file_extension": ".py",
   "mimetype": "text/x-python",
   "name": "python",
   "nbconvert_exporter": "python",
   "pygments_lexer": "ipython3",
   "version": "3.x"
  }
 },
 "nbformat": 4,
 "nbformat_minor": 5
}

{
 "cells": [
  {
   "cell_type": "markdown",
   "metadata": {},
   "source": [
    "# Tarea 1 - Métodos Numéricos\n",
    "\n",
    "## Búsqueda de raíces y solución de sistemas de ecuaciones lineales"
   ]
  },
  {
   "cell_type": "markdown",
   "metadata": {},
   "source": [
    "1) (15 %) Usar el método de la bisección para hallar los ceros de las siguientes funciones en los intervalos indicados con un error menor que $\\epsilon = 10^{-5}$. Hacerlo usando el criterio de parada $|x_n-x_{n-1}|\\leq \\epsilon$.\n",
    "\n",
    "    a) $f(x)=x-3^{-x}$, para $0\\leq x\\leq 1$.\n",
    "    \n",
    "    b) $f(x)=\\mathrm{e}^x-x^2+2 x-3$, para $0\\leq x\\leq 2$."
   ]
  },
  {
   "cell_type": "code",
   "execution_count": null,
   "metadata": {},
   "outputs": [],
   "source": [
    "# Escriba su código para resolver el punto anterior"
   ]
  },
  {
   "cell_type": "markdown",
   "metadata": {},
   "source": [
    "2) (10 %) Usar el método de la bisección para hallar el primer cero $\\hat{x}>0$ tal que $\\tan x=x$. Calcularlo con un error menor que $\\epsilon=0.0001$. Usar el criterio de parada $|x_n-x_{n-1}|\\leq \\epsilon$."
   ]
  },
  {
   "cell_type": "code",
   "execution_count": null,
   "metadata": {},
   "outputs": [],
   "source": [
    "# Escriba su código para resolver el punto anterior"
   ]
  },
  {
   "cell_type": "markdown",
   "metadata": {},
   "source": [
    "3) (15 %) Para cada una de las siguientes ecuaciones, determinar el intervalo $[a,b]$ donde el método del punto fijo converge. Hallar el punto fijo con un error de $\\epsilon =10^{-6}$ usando el criterio de parada $|x_n-x_{n-1}|\\leq \\epsilon$.\n",
    "\n",
    "    a) $x-\\cos x=0$.\n",
    "    \n",
    "    b) $x^2-\\mathrm{e}^{\\frac{x}{2}}=0$, donde $0<x<3$."
   ]
  },
  {
   "cell_type": "code",
   "execution_count": null,
   "metadata": {},
   "outputs": [],
   "source": [
    "# Escriba su código para resolver el punto anterior"
   ]
  },
  {
   "cell_type": "markdown",
   "metadata": {},
   "source": [
    "4) (30 %) Usando los métodos del punto-falso, la secante y Newton-Raphson, calcular el cero en el intervalo indicado de las siguientes funciones con un error $\\epsilon =10^{-6}$ usando el criterio de parada $|x_n-x_{n-1}|\\leq\\epsilon$:\n",
    "    \n",
    "    a) $f(x)=\\mathrm{e}^x+2\\cos x-7=0$, para $x$ en el intervalo $[2,3]$.\n",
    "\n",
    "    b) $f(x)=\\ln x-\\frac{1}{20}\\mathrm{e}^x=0$, para $x$ en el intervalo $[1,2]$."
   ]
  },
  {
   "cell_type": "code",
   "execution_count": null,
   "metadata": {},
   "outputs": [],
   "source": [
    "# Escriba su código par resolver el punto anterior"
   ]
  },
  {
   "cell_type": "markdown",
   "metadata": {},
   "source": [
    "5) (30 %) Estudia la solubilidad de los siguientes sistemas y resuélvelos cuando sea posible\n",
    "\n",
    "$$(a)\\left\\{\\begin{matrix}\n",
    "x & + & y &+ & 2z & = & 0\\\\\n",
    "x & + & 2y &+ & z & = & 1\\\\\n",
    "2x & + & 2y &+ & z & = & -1\n",
    "\\end{matrix}\\right.$$\n",
    "\n",
    "$$(b)\\left\\{\\begin{matrix}\n",
    "x & - & 2y &+ & 2z &+&3t& = & -1\\\\\n",
    "x & - & 2y & + & z &+&3t& = & -4\\\\\n",
    "-x & + & 2y && &+&2t& = & -3\\\\\n",
    "x & - & 2y & + & 2z &+&5t& = & -5\n",
    "\\end{matrix}\\right.$$\n",
    "\n",
    "$$(c)\\left\\{\\begin{matrix}\n",
    "x & + & y & + & z & + & 2t & = & -1\\\\\n",
    "2x & + & y & + & z & + & 4t & = & -3\\\\\n",
    "3x &  &  & + & 2z & + & 4t & = & -6\n",
    "\\end{matrix}\\right.$$\n",
    "\n",
    "$$(d)\\left\\{\\begin{matrix}\n",
    "x & + & 2y &  &  & - & 3t & = & 3\\\\\n",
    "3x & - & y & - & 7z & - & 9t & = & 2\\\\\n",
    "-x & + & 2y & + & 4z & +  & 3t & = & 1\n",
    "\\end{matrix}\\right.$$\n",
    "\n",
    "$$(e)\\left\\{\\begin{matrix}\n",
    "x & - & 3y & + & 3z & = & 1\\\\\n",
    "3x & - & 9y & + & 2z & = & 10\n",
    "\\end{matrix}\\right.$$\n",
    "\n",
    "$$(f)\\left\\{\\begin{matrix}\n",
    "x & + & 2y & + & z & + & 2t & + & 4u & = & 4\\\\\n",
    "-2x & - & 4y & - & z & - & 3t & - & 6u & = & 6\\\\\n",
    "2x & + & 4y &  &  & + & 2t & + & 4u & = & 4\\\\\n",
    "3x & + & 6y & + & z & + & 4t & + & 7u & = & 8\\\\\n",
    "\\end{matrix}\\right.$$"
   ]
  },
  {
   "cell_type": "code",
   "execution_count": null,
   "metadata": {},
   "outputs": [],
   "source": [
    "# Escriba su código para resolver el punto anterior"
   ]
  }
 ],
 "metadata": {
  "language_info": {
   "name": "python"
  }
 },
 "nbformat": 4,
 "nbformat_minor": 2
}

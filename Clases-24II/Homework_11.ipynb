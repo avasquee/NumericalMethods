{
 "cells": [
  {
   "cell_type": "markdown",
   "metadata": {},
   "source": [
    "# Homework 11\n",
    "#### CHE 116: Numerical Methods and Statistics\n",
    "\n",
    "*4/11/2019*\n",
    "\n",
    "----"
   ]
  },
  {
   "cell_type": "markdown",
   "metadata": {},
   "source": [
    "# 1. Conceptual Questions\n",
    "\n",
    "1. What is the difference between a bound and a constraint?\n",
    "2. What must you consider before choosing a method for minimization?\n",
    "3. Give an example of a non-convex problem you might see in chemical engineering. "
   ]
  },
  {
   "cell_type": "markdown",
   "metadata": {},
   "source": [
    "# 2. Optimization Problems\n",
    "\n",
    "Solve and plot the following expressions using python. Plot a red dot at your solution.\n",
    "\n",
    "1. Find all roots of this expression:\n",
    "\n",
    "$$\n",
    "\\frac{(x−4)^4}{8}+ \\frac{(x−2)^2}{2} - 4\n",
    "$$\n",
    "\n",
    "2. Find the minimum of this expression with $r$ bounded to be $[0.9,3]$\n",
    "\n",
    "$$\n",
    "4\\left[\\frac{1}{r^8} - \\frac{1}{r^4}\\right]\n",
    "$$\n",
    "\n",
    "\n",
    "3. Solve $e^{x / 4} = x$\n",
    "\n",
    "4. You do not need to plot this problem. Solve the following system of equations and report your answer.\n",
    "\n",
    "$$\n",
    "2\\sqrt{x} - 3 \\cos z = 3\n",
    "$$\n",
    "\n",
    "$$\n",
    "2 x - z^2 = 18\n",
    "$$"
   ]
  }
 ],
 "metadata": {
  "kernelspec": {
   "display_name": "Python 3",
   "language": "python",
   "name": "python3"
  },
  "language_info": {
   "codemirror_mode": {
    "name": "ipython",
    "version": 3
   },
   "file_extension": ".py",
   "mimetype": "text/x-python",
   "name": "python",
   "nbconvert_exporter": "python",
   "pygments_lexer": "ipython3",
   "version": "3.7.1"
  }
 },
 "nbformat": 4,
 "nbformat_minor": 2
}

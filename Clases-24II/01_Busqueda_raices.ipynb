{
 "cells": [
  {
   "cell_type": "markdown",
   "metadata": {
    "raw_mimetype": "text/latex"
   },
   "source": [
    "Contenido bajo licencia Creative Commons BY 4.0 y código bajo licencia MIT. © Juan Gómez y Nicolás Guarín-Zapata 2019-2020. Este material es parte del curso Modelación Computacional en el programa de Ingeniería Civil de la Universidad EAFIT."
   ]
  },
  {
   "cell_type": "markdown",
   "metadata": {},
   "source": [
    "# Determinación de raíces"
   ]
  },
  {
   "cell_type": "markdown",
   "metadata": {},
   "source": [
    "## Introducción"
   ]
  },
  {
   "cell_type": "markdown",
   "metadata": {},
   "source": [
    "El problema de determinar las raíces o ceros de una función aparece de manera frecuente en múltiples problemas de ingeniería. En este esta tarea debe desarrollar 2 de los métodos mas usados para su solución. \n",
    "- El método de Bisección \n",
    "- El método de Newton-Raphson. "
   ]
  },
  {
   "cell_type": "markdown",
   "metadata": {},
   "source": [
    "Punto 1. Determinación de tensiones extremas en un sólido elástico"
   ]
  },
  {
   "cell_type": "markdown",
   "metadata": {},
   "source": [
    "En un problema de análisis de tensiones para un sólido elástico se encuentra que los máximos esfuerzos $\\sigma$ son las raíces del polinomio caracteristico correspondiente a la siguiente función:\n",
    "\n",
    "\\begin{equation}\n",
    "f(\\sigma)=\\sigma ^3 -200 \\sigma ^2 -100000 \\sigma\n",
    "\\end{equation}\n",
    "\n",
    "y en donde $\\sigma \\in [-500 , 500].$ Para efectos de verificar si una condición de diseño del sólido es apropiada se requiere determinar los valores extremos.<sup>[Ref 1](#Referencias)</sup>\n"
   ]
  },
  {
   "cell_type": "code",
   "execution_count": 1,
   "metadata": {},
   "outputs": [],
   "source": [
    "# Esta línea permite tener gráficos interactivos en el notebook\n",
    "%matplotlib notebook"
   ]
  },
  {
   "cell_type": "code",
   "execution_count": 2,
   "metadata": {},
   "outputs": [],
   "source": [
    "import numpy as np\n",
    "import matplotlib.pyplot as plt"
   ]
  },
  {
   "cell_type": "markdown",
   "metadata": {},
   "source": [
    "### Paso 1: localización inicial de las raíces\n"
   ]
  },
  {
   "cell_type": "markdown",
   "metadata": {},
   "source": [
    "Inicialmente haremos una búsqueda o localización, de baja precisión, de las raíces para posteriormente afinar los valores usando métodos más formales. Como estrategia inicial para localizar las raíces es conveniente graficar la función. En el siguiente bloque de código usaremos la función **lambda** de Python para definir la función y su derivada."
   ]
  },
  {
   "cell_type": "code",
   "execution_count": 3,
   "metadata": {},
   "outputs": [],
   "source": [
    "fun  = lambda x: x**3 - 200.0*x**2 - 100000.0*x\n",
    "deriv = lambda x: 3.0*x**2 - 400.0*x - 100000.0"
   ]
  },
  {
   "cell_type": "markdown",
   "metadata": {},
   "source": [
    "Y luego la graficamos."
   ]
  },
  {
   "cell_type": "code",
   "execution_count": 4,
   "metadata": {},
   "outputs": [
    {
     "data": {
      "application/javascript": "/* Put everything inside the global mpl namespace */\nwindow.mpl = {};\n\n\nmpl.get_websocket_type = function() {\n    if (typeof(WebSocket) !== 'undefined') {\n        return WebSocket;\n    } else if (typeof(MozWebSocket) !== 'undefined') {\n        return MozWebSocket;\n    } else {\n        alert('Your browser does not have WebSocket support. ' +\n              'Please try Chrome, Safari or Firefox ≥ 6. ' +\n              'Firefox 4 and 5 are also supported but you ' +\n              'have to enable WebSockets in about:config.');\n    };\n}\n\nmpl.figure = function(figure_id, websocket, ondownload, parent_element) {\n    this.id = figure_id;\n\n    this.ws = websocket;\n\n    this.supports_binary = (this.ws.binaryType != undefined);\n\n    if (!this.supports_binary) {\n        var warnings = document.getElementById(\"mpl-warnings\");\n        if (warnings) {\n            warnings.style.display = 'block';\n            warnings.textContent = (\n                \"This browser does not support binary websocket messages. \" +\n                    \"Performance may be slow.\");\n        }\n    }\n\n    this.imageObj = new Image();\n\n    this.context = undefined;\n    this.message = undefined;\n    this.canvas = undefined;\n    this.rubberband_canvas = undefined;\n    this.rubberband_context = undefined;\n    this.format_dropdown = undefined;\n\n    this.image_mode = 'full';\n\n    this.root = $('<div/>');\n    this._root_extra_style(this.root)\n    this.root.attr('style', 'display: inline-block');\n\n    $(parent_element).append(this.root);\n\n    this._init_header(this);\n    this._init_canvas(this);\n    this._init_toolbar(this);\n\n    var fig = this;\n\n    this.waiting = false;\n\n    this.ws.onopen =  function () {\n            fig.send_message(\"supports_binary\", {value: fig.supports_binary});\n            fig.send_message(\"send_image_mode\", {});\n            if (mpl.ratio != 1) {\n                fig.send_message(\"set_dpi_ratio\", {'dpi_ratio': mpl.ratio});\n            }\n            fig.send_message(\"refresh\", {});\n        }\n\n    this.imageObj.onload = function() {\n            if (fig.image_mode == 'full') {\n                // Full images could contain transparency (where diff images\n                // almost always do), so we need to clear the canvas so that\n                // there is no ghosting.\n                fig.context.clearRect(0, 0, fig.canvas.width, fig.canvas.height);\n            }\n            fig.context.drawImage(fig.imageObj, 0, 0);\n        };\n\n    this.imageObj.onunload = function() {\n        fig.ws.close();\n    }\n\n    this.ws.onmessage = this._make_on_message_function(this);\n\n    this.ondownload = ondownload;\n}\n\nmpl.figure.prototype._init_header = function() {\n    var titlebar = $(\n        '<div class=\"ui-dialog-titlebar ui-widget-header ui-corner-all ' +\n        'ui-helper-clearfix\"/>');\n    var titletext = $(\n        '<div class=\"ui-dialog-title\" style=\"width: 100%; ' +\n        'text-align: center; padding: 3px;\"/>');\n    titlebar.append(titletext)\n    this.root.append(titlebar);\n    this.header = titletext[0];\n}\n\n\n\nmpl.figure.prototype._canvas_extra_style = function(canvas_div) {\n\n}\n\n\nmpl.figure.prototype._root_extra_style = function(canvas_div) {\n\n}\n\nmpl.figure.prototype._init_canvas = function() {\n    var fig = this;\n\n    var canvas_div = $('<div/>');\n\n    canvas_div.attr('style', 'position: relative; clear: both; outline: 0');\n\n    function canvas_keyboard_event(event) {\n        return fig.key_event(event, event['data']);\n    }\n\n    canvas_div.keydown('key_press', canvas_keyboard_event);\n    canvas_div.keyup('key_release', canvas_keyboard_event);\n    this.canvas_div = canvas_div\n    this._canvas_extra_style(canvas_div)\n    this.root.append(canvas_div);\n\n    var canvas = $('<canvas/>');\n    canvas.addClass('mpl-canvas');\n    canvas.attr('style', \"left: 0; top: 0; z-index: 0; outline: 0\")\n\n    this.canvas = canvas[0];\n    this.context = canvas[0].getContext(\"2d\");\n\n    var backingStore = this.context.backingStorePixelRatio ||\n\tthis.context.webkitBackingStorePixelRatio ||\n\tthis.context.mozBackingStorePixelRatio ||\n\tthis.context.msBackingStorePixelRatio ||\n\tthis.context.oBackingStorePixelRatio ||\n\tthis.context.backingStorePixelRatio || 1;\n\n    mpl.ratio = (window.devicePixelRatio || 1) / backingStore;\n\n    var rubberband = $('<canvas/>');\n    rubberband.attr('style', \"position: absolute; left: 0; top: 0; z-index: 1;\")\n\n    var pass_mouse_events = true;\n\n    canvas_div.resizable({\n        start: function(event, ui) {\n            pass_mouse_events = false;\n        },\n        resize: function(event, ui) {\n            fig.request_resize(ui.size.width, ui.size.height);\n        },\n        stop: function(event, ui) {\n            pass_mouse_events = true;\n            fig.request_resize(ui.size.width, ui.size.height);\n        },\n    });\n\n    function mouse_event_fn(event) {\n        if (pass_mouse_events)\n            return fig.mouse_event(event, event['data']);\n    }\n\n    rubberband.mousedown('button_press', mouse_event_fn);\n    rubberband.mouseup('button_release', mouse_event_fn);\n    // Throttle sequential mouse events to 1 every 20ms.\n    rubberband.mousemove('motion_notify', mouse_event_fn);\n\n    rubberband.mouseenter('figure_enter', mouse_event_fn);\n    rubberband.mouseleave('figure_leave', mouse_event_fn);\n\n    canvas_div.on(\"wheel\", function (event) {\n        event = event.originalEvent;\n        event['data'] = 'scroll'\n        if (event.deltaY < 0) {\n            event.step = 1;\n        } else {\n            event.step = -1;\n        }\n        mouse_event_fn(event);\n    });\n\n    canvas_div.append(canvas);\n    canvas_div.append(rubberband);\n\n    this.rubberband = rubberband;\n    this.rubberband_canvas = rubberband[0];\n    this.rubberband_context = rubberband[0].getContext(\"2d\");\n    this.rubberband_context.strokeStyle = \"#000000\";\n\n    this._resize_canvas = function(width, height) {\n        // Keep the size of the canvas, canvas container, and rubber band\n        // canvas in synch.\n        canvas_div.css('width', width)\n        canvas_div.css('height', height)\n\n        canvas.attr('width', width * mpl.ratio);\n        canvas.attr('height', height * mpl.ratio);\n        canvas.attr('style', 'width: ' + width + 'px; height: ' + height + 'px;');\n\n        rubberband.attr('width', width);\n        rubberband.attr('height', height);\n    }\n\n    // Set the figure to an initial 600x600px, this will subsequently be updated\n    // upon first draw.\n    this._resize_canvas(600, 600);\n\n    // Disable right mouse context menu.\n    $(this.rubberband_canvas).bind(\"contextmenu\",function(e){\n        return false;\n    });\n\n    function set_focus () {\n        canvas.focus();\n        canvas_div.focus();\n    }\n\n    window.setTimeout(set_focus, 100);\n}\n\nmpl.figure.prototype._init_toolbar = function() {\n    var fig = this;\n\n    var nav_element = $('<div/>');\n    nav_element.attr('style', 'width: 100%');\n    this.root.append(nav_element);\n\n    // Define a callback function for later on.\n    function toolbar_event(event) {\n        return fig.toolbar_button_onclick(event['data']);\n    }\n    function toolbar_mouse_event(event) {\n        return fig.toolbar_button_onmouseover(event['data']);\n    }\n\n    for(var toolbar_ind in mpl.toolbar_items) {\n        var name = mpl.toolbar_items[toolbar_ind][0];\n        var tooltip = mpl.toolbar_items[toolbar_ind][1];\n        var image = mpl.toolbar_items[toolbar_ind][2];\n        var method_name = mpl.toolbar_items[toolbar_ind][3];\n\n        if (!name) {\n            // put a spacer in here.\n            continue;\n        }\n        var button = $('<button/>');\n        button.addClass('ui-button ui-widget ui-state-default ui-corner-all ' +\n                        'ui-button-icon-only');\n        button.attr('role', 'button');\n        button.attr('aria-disabled', 'false');\n        button.click(method_name, toolbar_event);\n        button.mouseover(tooltip, toolbar_mouse_event);\n\n        var icon_img = $('<span/>');\n        icon_img.addClass('ui-button-icon-primary ui-icon');\n        icon_img.addClass(image);\n        icon_img.addClass('ui-corner-all');\n\n        var tooltip_span = $('<span/>');\n        tooltip_span.addClass('ui-button-text');\n        tooltip_span.html(tooltip);\n\n        button.append(icon_img);\n        button.append(tooltip_span);\n\n        nav_element.append(button);\n    }\n\n    var fmt_picker_span = $('<span/>');\n\n    var fmt_picker = $('<select/>');\n    fmt_picker.addClass('mpl-toolbar-option ui-widget ui-widget-content');\n    fmt_picker_span.append(fmt_picker);\n    nav_element.append(fmt_picker_span);\n    this.format_dropdown = fmt_picker[0];\n\n    for (var ind in mpl.extensions) {\n        var fmt = mpl.extensions[ind];\n        var option = $(\n            '<option/>', {selected: fmt === mpl.default_extension}).html(fmt);\n        fmt_picker.append(option);\n    }\n\n    // Add hover states to the ui-buttons\n    $( \".ui-button\" ).hover(\n        function() { $(this).addClass(\"ui-state-hover\");},\n        function() { $(this).removeClass(\"ui-state-hover\");}\n    );\n\n    var status_bar = $('<span class=\"mpl-message\"/>');\n    nav_element.append(status_bar);\n    this.message = status_bar[0];\n}\n\nmpl.figure.prototype.request_resize = function(x_pixels, y_pixels) {\n    // Request matplotlib to resize the figure. Matplotlib will then trigger a resize in the client,\n    // which will in turn request a refresh of the image.\n    this.send_message('resize', {'width': x_pixels, 'height': y_pixels});\n}\n\nmpl.figure.prototype.send_message = function(type, properties) {\n    properties['type'] = type;\n    properties['figure_id'] = this.id;\n    this.ws.send(JSON.stringify(properties));\n}\n\nmpl.figure.prototype.send_draw_message = function() {\n    if (!this.waiting) {\n        this.waiting = true;\n        this.ws.send(JSON.stringify({type: \"draw\", figure_id: this.id}));\n    }\n}\n\n\nmpl.figure.prototype.handle_save = function(fig, msg) {\n    var format_dropdown = fig.format_dropdown;\n    var format = format_dropdown.options[format_dropdown.selectedIndex].value;\n    fig.ondownload(fig, format);\n}\n\n\nmpl.figure.prototype.handle_resize = function(fig, msg) {\n    var size = msg['size'];\n    if (size[0] != fig.canvas.width || size[1] != fig.canvas.height) {\n        fig._resize_canvas(size[0], size[1]);\n        fig.send_message(\"refresh\", {});\n    };\n}\n\nmpl.figure.prototype.handle_rubberband = function(fig, msg) {\n    var x0 = msg['x0'] / mpl.ratio;\n    var y0 = (fig.canvas.height - msg['y0']) / mpl.ratio;\n    var x1 = msg['x1'] / mpl.ratio;\n    var y1 = (fig.canvas.height - msg['y1']) / mpl.ratio;\n    x0 = Math.floor(x0) + 0.5;\n    y0 = Math.floor(y0) + 0.5;\n    x1 = Math.floor(x1) + 0.5;\n    y1 = Math.floor(y1) + 0.5;\n    var min_x = Math.min(x0, x1);\n    var min_y = Math.min(y0, y1);\n    var width = Math.abs(x1 - x0);\n    var height = Math.abs(y1 - y0);\n\n    fig.rubberband_context.clearRect(\n        0, 0, fig.canvas.width / mpl.ratio, fig.canvas.height / mpl.ratio);\n\n    fig.rubberband_context.strokeRect(min_x, min_y, width, height);\n}\n\nmpl.figure.prototype.handle_figure_label = function(fig, msg) {\n    // Updates the figure title.\n    fig.header.textContent = msg['label'];\n}\n\nmpl.figure.prototype.handle_cursor = function(fig, msg) {\n    var cursor = msg['cursor'];\n    switch(cursor)\n    {\n    case 0:\n        cursor = 'pointer';\n        break;\n    case 1:\n        cursor = 'default';\n        break;\n    case 2:\n        cursor = 'crosshair';\n        break;\n    case 3:\n        cursor = 'move';\n        break;\n    }\n    fig.rubberband_canvas.style.cursor = cursor;\n}\n\nmpl.figure.prototype.handle_message = function(fig, msg) {\n    fig.message.textContent = msg['message'];\n}\n\nmpl.figure.prototype.handle_draw = function(fig, msg) {\n    // Request the server to send over a new figure.\n    fig.send_draw_message();\n}\n\nmpl.figure.prototype.handle_image_mode = function(fig, msg) {\n    fig.image_mode = msg['mode'];\n}\n\nmpl.figure.prototype.updated_canvas_event = function() {\n    // Called whenever the canvas gets updated.\n    this.send_message(\"ack\", {});\n}\n\n// A function to construct a web socket function for onmessage handling.\n// Called in the figure constructor.\nmpl.figure.prototype._make_on_message_function = function(fig) {\n    return function socket_on_message(evt) {\n        if (evt.data instanceof Blob) {\n            /* FIXME: We get \"Resource interpreted as Image but\n             * transferred with MIME type text/plain:\" errors on\n             * Chrome.  But how to set the MIME type?  It doesn't seem\n             * to be part of the websocket stream */\n            evt.data.type = \"image/png\";\n\n            /* Free the memory for the previous frames */\n            if (fig.imageObj.src) {\n                (window.URL || window.webkitURL).revokeObjectURL(\n                    fig.imageObj.src);\n            }\n\n            fig.imageObj.src = (window.URL || window.webkitURL).createObjectURL(\n                evt.data);\n            fig.updated_canvas_event();\n            fig.waiting = false;\n            return;\n        }\n        else if (typeof evt.data === 'string' && evt.data.slice(0, 21) == \"data:image/png;base64\") {\n            fig.imageObj.src = evt.data;\n            fig.updated_canvas_event();\n            fig.waiting = false;\n            return;\n        }\n\n        var msg = JSON.parse(evt.data);\n        var msg_type = msg['type'];\n\n        // Call the  \"handle_{type}\" callback, which takes\n        // the figure and JSON message as its only arguments.\n        try {\n            var callback = fig[\"handle_\" + msg_type];\n        } catch (e) {\n            console.log(\"No handler for the '\" + msg_type + \"' message type: \", msg);\n            return;\n        }\n\n        if (callback) {\n            try {\n                // console.log(\"Handling '\" + msg_type + \"' message: \", msg);\n                callback(fig, msg);\n            } catch (e) {\n                console.log(\"Exception inside the 'handler_\" + msg_type + \"' callback:\", e, e.stack, msg);\n            }\n        }\n    };\n}\n\n// from http://stackoverflow.com/questions/1114465/getting-mouse-location-in-canvas\nmpl.findpos = function(e) {\n    //this section is from http://www.quirksmode.org/js/events_properties.html\n    var targ;\n    if (!e)\n        e = window.event;\n    if (e.target)\n        targ = e.target;\n    else if (e.srcElement)\n        targ = e.srcElement;\n    if (targ.nodeType == 3) // defeat Safari bug\n        targ = targ.parentNode;\n\n    // jQuery normalizes the pageX and pageY\n    // pageX,Y are the mouse positions relative to the document\n    // offset() returns the position of the element relative to the document\n    var x = e.pageX - $(targ).offset().left;\n    var y = e.pageY - $(targ).offset().top;\n\n    return {\"x\": x, \"y\": y};\n};\n\n/*\n * return a copy of an object with only non-object keys\n * we need this to avoid circular references\n * http://stackoverflow.com/a/24161582/3208463\n */\nfunction simpleKeys (original) {\n  return Object.keys(original).reduce(function (obj, key) {\n    if (typeof original[key] !== 'object')\n        obj[key] = original[key]\n    return obj;\n  }, {});\n}\n\nmpl.figure.prototype.mouse_event = function(event, name) {\n    var canvas_pos = mpl.findpos(event)\n\n    if (name === 'button_press')\n    {\n        this.canvas.focus();\n        this.canvas_div.focus();\n    }\n\n    var x = canvas_pos.x * mpl.ratio;\n    var y = canvas_pos.y * mpl.ratio;\n\n    this.send_message(name, {x: x, y: y, button: event.button,\n                             step: event.step,\n                             guiEvent: simpleKeys(event)});\n\n    /* This prevents the web browser from automatically changing to\n     * the text insertion cursor when the button is pressed.  We want\n     * to control all of the cursor setting manually through the\n     * 'cursor' event from matplotlib */\n    event.preventDefault();\n    return false;\n}\n\nmpl.figure.prototype._key_event_extra = function(event, name) {\n    // Handle any extra behaviour associated with a key event\n}\n\nmpl.figure.prototype.key_event = function(event, name) {\n\n    // Prevent repeat events\n    if (name == 'key_press')\n    {\n        if (event.which === this._key)\n            return;\n        else\n            this._key = event.which;\n    }\n    if (name == 'key_release')\n        this._key = null;\n\n    var value = '';\n    if (event.ctrlKey && event.which != 17)\n        value += \"ctrl+\";\n    if (event.altKey && event.which != 18)\n        value += \"alt+\";\n    if (event.shiftKey && event.which != 16)\n        value += \"shift+\";\n\n    value += 'k';\n    value += event.which.toString();\n\n    this._key_event_extra(event, name);\n\n    this.send_message(name, {key: value,\n                             guiEvent: simpleKeys(event)});\n    return false;\n}\n\nmpl.figure.prototype.toolbar_button_onclick = function(name) {\n    if (name == 'download') {\n        this.handle_save(this, null);\n    } else {\n        this.send_message(\"toolbar_button\", {name: name});\n    }\n};\n\nmpl.figure.prototype.toolbar_button_onmouseover = function(tooltip) {\n    this.message.textContent = tooltip;\n};\nmpl.toolbar_items = [[\"Home\", \"Reset original view\", \"fa fa-home icon-home\", \"home\"], [\"Back\", \"Back to previous view\", \"fa fa-arrow-left icon-arrow-left\", \"back\"], [\"Forward\", \"Forward to next view\", \"fa fa-arrow-right icon-arrow-right\", \"forward\"], [\"\", \"\", \"\", \"\"], [\"Pan\", \"Pan axes with left mouse, zoom with right\", \"fa fa-arrows icon-move\", \"pan\"], [\"Zoom\", \"Zoom to rectangle\", \"fa fa-square-o icon-check-empty\", \"zoom\"], [\"\", \"\", \"\", \"\"], [\"Download\", \"Download plot\", \"fa fa-floppy-o icon-save\", \"download\"]];\n\nmpl.extensions = [\"eps\", \"jpeg\", \"pdf\", \"png\", \"ps\", \"raw\", \"svg\", \"tif\"];\n\nmpl.default_extension = \"png\";var comm_websocket_adapter = function(comm) {\n    // Create a \"websocket\"-like object which calls the given IPython comm\n    // object with the appropriate methods. Currently this is a non binary\n    // socket, so there is still some room for performance tuning.\n    var ws = {};\n\n    ws.close = function() {\n        comm.close()\n    };\n    ws.send = function(m) {\n        //console.log('sending', m);\n        comm.send(m);\n    };\n    // Register the callback with on_msg.\n    comm.on_msg(function(msg) {\n        //console.log('receiving', msg['content']['data'], msg);\n        // Pass the mpl event to the overridden (by mpl) onmessage function.\n        ws.onmessage(msg['content']['data'])\n    });\n    return ws;\n}\n\nmpl.mpl_figure_comm = function(comm, msg) {\n    // This is the function which gets called when the mpl process\n    // starts-up an IPython Comm through the \"matplotlib\" channel.\n\n    var id = msg.content.data.id;\n    // Get hold of the div created by the display call when the Comm\n    // socket was opened in Python.\n    var element = $(\"#\" + id);\n    var ws_proxy = comm_websocket_adapter(comm)\n\n    function ondownload(figure, format) {\n        window.open(figure.imageObj.src);\n    }\n\n    var fig = new mpl.figure(id, ws_proxy,\n                           ondownload,\n                           element.get(0));\n\n    // Call onopen now - mpl needs it, as it is assuming we've passed it a real\n    // web socket which is closed, not our websocket->open comm proxy.\n    ws_proxy.onopen();\n\n    fig.parent_element = element.get(0);\n    fig.cell_info = mpl.find_output_cell(\"<div id='\" + id + \"'></div>\");\n    if (!fig.cell_info) {\n        console.error(\"Failed to find cell for figure\", id, fig);\n        return;\n    }\n\n    var output_index = fig.cell_info[2]\n    var cell = fig.cell_info[0];\n\n};\n\nmpl.figure.prototype.handle_close = function(fig, msg) {\n    var width = fig.canvas.width/mpl.ratio\n    fig.root.unbind('remove')\n\n    // Update the output cell to use the data from the current canvas.\n    fig.push_to_output();\n    var dataURL = fig.canvas.toDataURL();\n    // Re-enable the keyboard manager in IPython - without this line, in FF,\n    // the notebook keyboard shortcuts fail.\n    IPython.keyboard_manager.enable()\n    $(fig.parent_element).html('<img src=\"' + dataURL + '\" width=\"' + width + '\">');\n    fig.close_ws(fig, msg);\n}\n\nmpl.figure.prototype.close_ws = function(fig, msg){\n    fig.send_message('closing', msg);\n    // fig.ws.close()\n}\n\nmpl.figure.prototype.push_to_output = function(remove_interactive) {\n    // Turn the data on the canvas into data in the output cell.\n    var width = this.canvas.width/mpl.ratio\n    var dataURL = this.canvas.toDataURL();\n    this.cell_info[1]['text/html'] = '<img src=\"' + dataURL + '\" width=\"' + width + '\">';\n}\n\nmpl.figure.prototype.updated_canvas_event = function() {\n    // Tell IPython that the notebook contents must change.\n    IPython.notebook.set_dirty(true);\n    this.send_message(\"ack\", {});\n    var fig = this;\n    // Wait a second, then push the new image to the DOM so\n    // that it is saved nicely (might be nice to debounce this).\n    setTimeout(function () { fig.push_to_output() }, 1000);\n}\n\nmpl.figure.prototype._init_toolbar = function() {\n    var fig = this;\n\n    var nav_element = $('<div/>');\n    nav_element.attr('style', 'width: 100%');\n    this.root.append(nav_element);\n\n    // Define a callback function for later on.\n    function toolbar_event(event) {\n        return fig.toolbar_button_onclick(event['data']);\n    }\n    function toolbar_mouse_event(event) {\n        return fig.toolbar_button_onmouseover(event['data']);\n    }\n\n    for(var toolbar_ind in mpl.toolbar_items){\n        var name = mpl.toolbar_items[toolbar_ind][0];\n        var tooltip = mpl.toolbar_items[toolbar_ind][1];\n        var image = mpl.toolbar_items[toolbar_ind][2];\n        var method_name = mpl.toolbar_items[toolbar_ind][3];\n\n        if (!name) { continue; };\n\n        var button = $('<button class=\"btn btn-default\" href=\"#\" title=\"' + name + '\"><i class=\"fa ' + image + ' fa-lg\"></i></button>');\n        button.click(method_name, toolbar_event);\n        button.mouseover(tooltip, toolbar_mouse_event);\n        nav_element.append(button);\n    }\n\n    // Add the status bar.\n    var status_bar = $('<span class=\"mpl-message\" style=\"text-align:right; float: right;\"/>');\n    nav_element.append(status_bar);\n    this.message = status_bar[0];\n\n    // Add the close button to the window.\n    var buttongrp = $('<div class=\"btn-group inline pull-right\"></div>');\n    var button = $('<button class=\"btn btn-mini btn-primary\" href=\"#\" title=\"Stop Interaction\"><i class=\"fa fa-power-off icon-remove icon-large\"></i></button>');\n    button.click(function (evt) { fig.handle_close(fig, {}); } );\n    button.mouseover('Stop Interaction', toolbar_mouse_event);\n    buttongrp.append(button);\n    var titlebar = this.root.find($('.ui-dialog-titlebar'));\n    titlebar.prepend(buttongrp);\n}\n\nmpl.figure.prototype._root_extra_style = function(el){\n    var fig = this\n    el.on(\"remove\", function(){\n\tfig.close_ws(fig, {});\n    });\n}\n\nmpl.figure.prototype._canvas_extra_style = function(el){\n    // this is important to make the div 'focusable\n    el.attr('tabindex', 0)\n    // reach out to IPython and tell the keyboard manager to turn it's self\n    // off when our div gets focus\n\n    // location in version 3\n    if (IPython.notebook.keyboard_manager) {\n        IPython.notebook.keyboard_manager.register_events(el);\n    }\n    else {\n        // location in version 2\n        IPython.keyboard_manager.register_events(el);\n    }\n\n}\n\nmpl.figure.prototype._key_event_extra = function(event, name) {\n    var manager = IPython.notebook.keyboard_manager;\n    if (!manager)\n        manager = IPython.keyboard_manager;\n\n    // Check for shift+enter\n    if (event.shiftKey && event.which == 13) {\n        this.canvas_div.blur();\n        // select the cell after this one\n        var index = IPython.notebook.find_cell_index(this.cell_info[0]);\n        IPython.notebook.select(index + 1);\n    }\n}\n\nmpl.figure.prototype.handle_save = function(fig, msg) {\n    fig.ondownload(fig, null);\n}\n\n\nmpl.find_output_cell = function(html_output) {\n    // Return the cell and output element which can be found *uniquely* in the notebook.\n    // Note - this is a bit hacky, but it is done because the \"notebook_saving.Notebook\"\n    // IPython event is triggered only after the cells have been serialised, which for\n    // our purposes (turning an active figure into a static one), is too late.\n    var cells = IPython.notebook.get_cells();\n    var ncells = cells.length;\n    for (var i=0; i<ncells; i++) {\n        var cell = cells[i];\n        if (cell.cell_type === 'code'){\n            for (var j=0; j<cell.output_area.outputs.length; j++) {\n                var data = cell.output_area.outputs[j];\n                if (data.data) {\n                    // IPython >= 3 moved mimebundle to data attribute of output\n                    data = data.data;\n                }\n                if (data['text/html'] == html_output) {\n                    return [cell, data, j];\n                }\n            }\n        }\n    }\n}\n\n// Register the function which deals with the matplotlib target/channel.\n// The kernel may be null if the page has been refreshed.\nif (IPython.notebook.kernel != null) {\n    IPython.notebook.kernel.comm_manager.register_target('matplotlib', mpl.mpl_figure_comm);\n}\n",
      "text/plain": [
       "<IPython.core.display.Javascript object>"
      ]
     },
     "metadata": {},
     "output_type": "display_data"
    },
    {
     "data": {
      "text/html": [
       "<img src=\"data:image/png;base64,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\" width=\"640\">"
      ],
      "text/plain": [
       "<IPython.core.display.HTML object>"
      ]
     },
     "metadata": {},
     "output_type": "display_data"
    },
    {
     "data": {
      "text/plain": [
       "[<matplotlib.lines.Line2D at 0x1913dfb3f28>]"
      ]
     },
     "execution_count": 4,
     "metadata": {},
     "output_type": "execute_result"
    }
   ],
   "source": [
    "npts = 200\n",
    "x = np.linspace(-500, 500, npts)\n",
    "y = fun(x)\n",
    "plt.figure()\n",
    "plt.plot(x, y)"
   ]
  },
  {
   "cell_type": "markdown",
   "metadata": {},
   "source": [
    "<div class=\"alert alert-warning\">\n",
    "\n",
    "**Preguntas**\n",
    "    \n",
    "- Modificar los ejes de la gráfica y adicionar una cuadricula para facilitar la  identificación aproximada de las raíces.\n",
    "\n",
    "- ¿Cuáles son los valores aproximados de las raíces que se obtienen de la gráfica?\n",
    "</div>"
   ]
  },
  {
   "cell_type": "markdown",
   "metadata": {},
   "source": [
    "Para hacer la búsqueda inicial usaremos el algoritmo de _bracketing_ el cual recibe como parámetros de entrada la función, los extremos del intervalo de búsqueda y el número de intervalos a considerar. En el siguiente bloque de código definimos la función **bracketing()** de manera que esta pueda ser utilizada de forma general."
   ]
  },
  {
   "cell_type": "code",
   "execution_count": 5,
   "metadata": {},
   "outputs": [],
   "source": [
    "# Comentar apropiadamente el siguiente código\n",
    "def bracketing(fun, a, b, N):\n",
    "    \"\"\"Estimate the root of a real function using bracketing\n",
    "\n",
    "    Parameters\n",
    "    ----------\n",
    "    fun : function\n",
    "        Function.\n",
    "    a : float\n",
    "        Initial point of the interval.\n",
    "    b : float\n",
    "        Final point of the interval.\n",
    "    N : int\n",
    "        Number of subdivisions for the interval\n",
    "\n",
    "    Returns\n",
    "    -------\n",
    "    xR : list\n",
    "        List with intervals where a change of sign was found.\n",
    "    msg : string\n",
    "        Message regarding the success of the method.\n",
    "    \"\"\"\n",
    "    msg = \"Maximum number of iterations reached.\"\n",
    "    dx = (b - a)/(N - 1)\n",
    "    iroot = 0\n",
    "    x2 = a\n",
    "    xR = []\n",
    "    for i in range(0, N):\n",
    "        x1 = x2\n",
    "        x2 = x1 + dx\n",
    "        if (fun(x1) * fun(x2)) < 0:\n",
    "            msg = \"A change of sign was found.\"\n",
    "            iroot = iroot + 1\n",
    "            xR.append([x1, x2])\n",
    "    return xR, msg"
   ]
  },
  {
   "cell_type": "markdown",
   "metadata": {},
   "source": [
    "En el uso de la rutina de búsqueda partiremos el dominio del problema en $N = 100$ sub-intervalos de manera que tendremos:\n",
    "\n",
    "$$\\triangle\\sigma=\\frac{b-a}{100}\\equiv\\frac{1000}{100}$$"
   ]
  },
  {
   "cell_type": "markdown",
   "metadata": {},
   "source": [
    "<div class=\"alert alert-warning\">\n",
    "\n",
    "**Preguntas**\n",
    "    \n",
    "- ¿Qué tan cercanas son las raíces encontradas por la rutina con las identificadas en la gráfica?\n",
    "\n",
    "- ¿Qué pasa si se cambia el valor del numero de sub-intervalos en la operación de bracketing?\n",
    "</div>"
   ]
  },
  {
   "cell_type": "code",
   "execution_count": 6,
   "metadata": {},
   "outputs": [
    {
     "data": {
      "text/plain": [
       "[[-277.7777777777778, -166.6666666666667],\n",
       " [-55.5555555555556, 55.555555555555515],\n",
       " [388.8888888888888, 499.9999999999999]]"
      ]
     },
     "execution_count": 6,
     "metadata": {},
     "output_type": "execute_result"
    }
   ],
   "source": [
    "xR, msg = bracketing(fun, -500, 500, 10)\n",
    "xR"
   ]
  },
  {
   "cell_type": "markdown",
   "metadata": {},
   "source": [
    "### Paso 2a: Afinación de la raíz por el método de bisección"
   ]
  },
  {
   "cell_type": "markdown",
   "metadata": {},
   "source": [
    "El método de bisección consiste en la partición por mitades e identificación de la mitad en la que se presenta el cambio de signo, como se muestra en la figura. El método cada vez toma un sub-intervalo de menor tamaño variando la posición del punto $x_3$.\n",
    "\n",
    "\n",
    "<center>\n",
    "    <img src=\"img/biseccion.svg\"\n",
    "         alt=\"Esquema ilustrando el método de bisección.\"\n",
    "         style=\"width:500px\">\n",
    "</center>\n",
    "\n",
    "A continuación se presenta el método de bisección que toma como parámetros de entrada la función; los valores extremos del intervalo de búsqueda $a$ y $b$; y 2 valores de tolerancia usados para detectar la presencia de una raíz ya sea por el tamaño del intervalo de búsqueda o por la cercanía con cero del valor de la función."
   ]
  },
  {
   "cell_type": "code",
   "execution_count": 7,
   "metadata": {},
   "outputs": [],
   "source": [
    "# Comentar apropiadamente el siguiente código\n",
    "def bisection(fun, a, b, niter=50, ftol=1e-12, verbose=False):\n",
    "    \"\"\"Use bisection method to estimate the root of a real function\n",
    "\n",
    "    Parameters\n",
    "    ----------\n",
    "    fun : function\n",
    "        Function.\n",
    "    grad : function\n",
    "        Derivative of the function.\n",
    "    a : float\n",
    "        Initial point of the interval.\n",
    "    b : float\n",
    "        Final point of the interval.\n",
    "    niter : int, optional\n",
    "        Maximum number of iterations.\n",
    "    ftol : float, optional\n",
    "        Tolerance for the root.\n",
    "    verbose : bool, optional\n",
    "        If True, prints each iteration.\n",
    "\n",
    "    Returns\n",
    "    -------\n",
    "    x : float\n",
    "        Approximated root.\n",
    "    msg : string\n",
    "        Message regarding the success of the method.\n",
    "    \"\"\"\n",
    "    if fun(a) * fun(b) > 0:\n",
    "        c = None\n",
    "        msg = \"The function should have a sign change in the interval.\"\n",
    "    else:\n",
    "        for cont in range(niter):\n",
    "            c = 0.5*(a + b)\n",
    "            if verbose:\n",
    "                print(\"n: {}, x: {}\".format(cont, c))\n",
    "            if abs(fun(c)) < ftol:\n",
    "                msg = \"Root found with desired accuracy.\"\n",
    "                break\n",
    "            elif fun(a) * fun(c) < 0:\n",
    "                b = c\n",
    "            elif fun(b) * fun(c) < 0:\n",
    "                a = c\n",
    "            msg = \"Maximum number of iterations reached.\"\n",
    "    return c, msg"
   ]
  },
  {
   "cell_type": "code",
   "execution_count": 8,
   "metadata": {},
   "outputs": [
    {
     "data": {
      "text/plain": [
       "-231.6624790355399"
      ]
     },
     "execution_count": 8,
     "metadata": {},
     "output_type": "execute_result"
    }
   ],
   "source": [
    "raiz, _ = bisection(fun, -300.0, -200.0)\n",
    "raiz"
   ]
  },
  {
   "cell_type": "code",
   "execution_count": 9,
   "metadata": {},
   "outputs": [
    {
     "data": {
      "text/plain": [
       "-7.723180237198344e-15"
      ]
     },
     "execution_count": 9,
     "metadata": {},
     "output_type": "execute_result"
    }
   ],
   "source": [
    "raiz, _ = bisection(fun, -100.0, 0.100)\n",
    "raiz"
   ]
  },
  {
   "cell_type": "code",
   "execution_count": 10,
   "metadata": {},
   "outputs": [
    {
     "data": {
      "text/plain": [
       "431.66247903554"
      ]
     },
     "execution_count": 10,
     "metadata": {},
     "output_type": "execute_result"
    }
   ],
   "source": [
    "raiz, _ = bisection(fun,  300.0, 500.0)\n",
    "raiz"
   ]
  },
  {
   "cell_type": "markdown",
   "metadata": {},
   "source": [
    "<div class=\"alert alert-warning\">\n",
    "\n",
    "**Pregunta**\n",
    "\n",
    "Para al menos una de las raíces pruebe con diferentes rangos de localización de la raíz e indique el desempeño del algoritmo en términos del número de iteraciones.\n",
    "\n",
    "</div>\n"
   ]
  },
  {
   "cell_type": "markdown",
   "metadata": {},
   "source": [
    "### Paso 2b: Afinación de la raíz por el método de Newton-Raphson"
   ]
  },
  {
   "cell_type": "markdown",
   "metadata": {},
   "source": [
    "Recordemos el método de Newton-Raphson el cual consiste en extender la recta tangente en el punto actual $x_i$ hasta que cruce el cero para luego hacer la aproximación en la abscisa de dicho punto de cruce (ver figura). Considerando la pendiente en $x_i$ se tiene que:\n",
    "\n",
    "$$\n",
    "f'(x_i)\\equiv m=\\frac{0-f(x_i)}{x_{i+1}-x_i}\n",
    "$$\n",
    "\n",
    "resultando en la iteración de Newton-Raphson:\n",
    "\n",
    "$$\n",
    "x_{i+1}=x_i-\\frac{f(x_i)}{f'(x_i)}\n",
    "$$\n",
    "\n",
    "\n",
    "<center>\n",
    "    <img src=\"img/newton_iter.svg\"\n",
    "         alt=\"Esquema del método de Newton.\"\n",
    "         style=\"width:500px\">\n",
    "</center>\n",
    "\n",
    "En el siguiente bloque de código se implementa la iteración de Newton-Raphson. Note que además de la función, el algoritmo requiere como parámetros de entrada la primera derivada y un valor inicial de la raíz. El algoritmo puede fallar por alcanzar el máximo número de iteraciones permitido o por llegar a puntos en donde la derivada es cercana a cero."
   ]
  },
  {
   "cell_type": "code",
   "execution_count": 11,
   "metadata": {},
   "outputs": [],
   "source": [
    "# Comentar apropiadamente el siguiente código\n",
    "\n",
    "def newton(fun, grad, x, niter=50, ftol=1e-8, verbose=False):\n",
    "    \"\"\"Use Newton method to estimate the root of a real function\n",
    "\n",
    "    Parameters\n",
    "    ----------\n",
    "    fun : function\n",
    "        Function.\n",
    "    grad : function\n",
    "        Derivative of the function.\n",
    "    x : float\n",
    "        Initial estimate.\n",
    "    niter : int, optional\n",
    "        Maximum number of iterations.\n",
    "    ftol : float, optional\n",
    "        Tolerance for the root.\n",
    "    verbose : bool, optional\n",
    "        If True, prints each iteration.\n",
    "\n",
    "    Returns\n",
    "    -------\n",
    "    x : array\n",
    "        Approximated root.\n",
    "    msg : string\n",
    "        Message regarding the success of the method.\n",
    "    \"\"\"\n",
    "    msg = \"Maximum number of iterations reached.\"\n",
    "    for cont in range(niter):\n",
    "        if abs(grad(x)) < ftol:\n",
    "            x = None\n",
    "            msg = \"Derivative near to zero.\"\n",
    "            break\n",
    "        if verbose:\n",
    "            print(\"n: {}, x: {}\".format(cont, x))\n",
    "        x = x - fun(x)/grad(x)\n",
    "        if abs(fun(x)) < ftol:\n",
    "            msg = \"Root found with desired accuracy.\"\n",
    "            break\n",
    "    return x, msg"
   ]
  },
  {
   "cell_type": "markdown",
   "metadata": {},
   "source": [
    "Probemos con diferentes puntos iniciales."
   ]
  },
  {
   "cell_type": "code",
   "execution_count": 12,
   "metadata": {},
   "outputs": [
    {
     "name": "stdout",
     "output_type": "stream",
     "text": [
      "n: 0, x: -230.0\n",
      "n: 1, x: -231.67883211678833\n",
      "n: 2, x: -231.6624805928219\n"
     ]
    },
    {
     "data": {
      "text/plain": [
       "(-231.66247903554, 'Root found with desired accuracy.')"
      ]
     },
     "execution_count": 12,
     "metadata": {},
     "output_type": "execute_result"
    }
   ],
   "source": [
    "newton(fun, deriv, -230.0, verbose=True)"
   ]
  },
  {
   "cell_type": "code",
   "execution_count": 13,
   "metadata": {},
   "outputs": [
    {
     "name": "stdout",
     "output_type": "stream",
     "text": [
      "n: 0, x: -51.0\n",
      "n: 1, x: 10.94059640374946\n",
      "n: 2, x: 0.20496836097227877\n",
      "n: 3, x: 8.378324920088609e-05\n",
      "n: 4, x: 1.4039249228220071e-11\n"
     ]
    },
    {
     "data": {
      "text/plain": [
       "(3.9420326066980225e-25, 'Root found with desired accuracy.')"
      ]
     },
     "execution_count": 13,
     "metadata": {},
     "output_type": "execute_result"
    }
   ],
   "source": [
    "newton(fun, deriv, -51.0, verbose=True)\n"
   ]
  },
  {
   "cell_type": "code",
   "execution_count": 14,
   "metadata": {},
   "outputs": [
    {
     "data": {
      "text/plain": [
       "(431.66247903554, 'Root found with desired accuracy.')"
      ]
     },
     "execution_count": 14,
     "metadata": {},
     "output_type": "execute_result"
    }
   ],
   "source": [
    "newton(fun, deriv, 430.0, verbose=False)\n"
   ]
  },
  {
   "cell_type": "markdown",
   "metadata": {},
   "source": [
    "## Glosario de términos"
   ]
  },
  {
   "cell_type": "markdown",
   "metadata": {},
   "source": [
    "\n",
    "**Raíz de una función $f(x)$:** Valor (o valores) de $x$ para los cuales se da la condición $f(x)=0$.\n",
    "\n",
    "**Convergencia:** Aproximaciones sucesivas a un valor buscado a través de un proceso iterativo.\n",
    "\n",
    "**Tolerancia:** Número real para definir el cero computacional en un algoritmo.\n",
    "\n",
    "**Método de bisección:** Algoritmo que localiza la raíz de una función $f(x)$ a través de particiones sucesivas del intervalo de búsqueda.\n",
    "\n",
    "**Método de Newton-Raphson:** Algoritmo que localiza la raíz de una función $f(x)$ a partir de la ecuación de la tangente en una aproximación inicial de la raíz.\n",
    "\n"
   ]
  },
  {
   "cell_type": "markdown",
   "metadata": {},
   "source": [
    "## Actividad para la clase"
   ]
  },
  {
   "cell_type": "markdown",
   "metadata": {},
   "source": [
    "El método de Newton-Raphson resulta de la ecuación de la tangente en un punto $x_i  $asumido como raíz de la función. Este método tiene como desventaja la necesidad de requerir la primera derivada de la función $f'(x)$, la cual no siempre esta disponible. Se puede formular también una iteración alternativa que evite el uso de $f'(x)$ si se hace uso de la recta secante entre 2 puntos $x_i$ y $x_{i+1}$ como se ilustra en la figura.\n",
    "\n",
    "<center>\n",
    "    <img src=\"img/secante_iter.svg\"\n",
    "         alt=\"Esquema del método de la secante.\"\n",
    "         style=\"width:500px\">\n",
    "</center>\n",
    "\n",
    "Para derivar el método partimos de dos puntos $x_i$ y $x_{i-1}$, y encontramos la recta\n",
    "secante que pasa por estos. Extendiendo la misma hasta su cruce con cero resulta en:\n",
    "\n",
    "$$m = \\frac{0 - f(x_i)}{x_{i + 1} - x_{i}}\\, ,$$\n",
    "\n",
    "y sabiendo que $m = (f(x_i) - f(x_{i - 1}))/(x_{i} - x_{i - 1})$, se tiene la siguiente iteración:\n",
    "\n",
    "$$x_{i + 1} = x_i - f(x_i) \\frac{x_{i} - x_{i - 1}}{f(x_i) - f(x_{i - 1})}\\, .$$\n",
    "\n",
    "\n",
    "\n",
    "<div class=\"alert alert-warning\">\n",
    "\n",
    "1. Modificar la rutina de Newton-Raphson de manera que determine la raíz de $f(x)$ usando el método de la secante.\n",
    "\n",
    "2. Para la función del ejemplo determinar sus raíces usando los métodos de Newton-Raphson y de la secante y compare su desempeño en términos de precisión y número de iteraciones.\n",
    "\n",
    "</div>\n",
    "\n",
    "\n",
    "A continuación se brinda una plantilla para la actividad."
   ]
  },
  {
   "cell_type": "code",
   "execution_count": 15,
   "metadata": {},
   "outputs": [],
   "source": [
    "def secante(fun, x0, x1, niter=50, ftol=1e-8):\n",
    "    \"\"\"Use secant method to estimate the root of a real function\n",
    "\n",
    "    Parameters\n",
    "    ----------\n",
    "    fun : function\n",
    "        Function.\n",
    "    x0 : float\n",
    "        Initial estimate.\n",
    "    x1 : float\n",
    "        Initial estimate.\n",
    "    niter : int, optional\n",
    "        Maximum number of iterations.\n",
    "    ftol : float, optional\n",
    "        Tolerance for the root.\n",
    "\n",
    "    Returns\n",
    "    -------\n",
    "    x : array\n",
    "        Approximated root.\n",
    "    \"\"\"\n",
    "    for cont in range(niter): # Modificar\n",
    "        grad = 1 # Aproximacion al gradiente\n",
    "        x = x - fun(x)/grad\n",
    "        if abs(fun(x)) < ftol:\n",
    "            break\n",
    "    return x"
   ]
  },
  {
   "cell_type": "markdown",
   "metadata": {},
   "source": [
    "## Referencias"
   ]
  },
  {
   "cell_type": "markdown",
   "metadata": {},
   "source": [
    "1. Gómez, Juan., Sierra, César., Vergara, Juan., Sáenz, Mario., and Guarín-Zapata, Nicolás. (2018) [Notas de clase: Mecánica del medio continuo](https://github.com/AppliedMechanics-EAFIT/Notas-MMC/raw/master/notas_de_clase/notas_medios.pdf). Universidad EAFIT.\n",
    "\n",
    "2. Press, W. H., Teukolsky, S. A., Vetterling, W. T., & Flannery, B. P. (1996). Numerical recipes in Fortran 90. Cambridge: Cambridge university press."
   ]
  },
  {
   "cell_type": "markdown",
   "metadata": {},
   "source": [
    "## Formato del notebook"
   ]
  },
  {
   "cell_type": "markdown",
   "metadata": {},
   "source": [
    "La siguiente celda cambia el formato del Notebook."
   ]
  },
  {
   "cell_type": "code",
   "execution_count": 16,
   "metadata": {},
   "outputs": [
    {
     "data": {
      "text/html": [
       "\n",
       "<link href='http://fonts.googleapis.com/css?family=Fenix' rel='stylesheet' type='text/css'>\n",
       "<link href='http://fonts.googleapis.com/css?family=Alegreya+Sans:100,300,400,500,700,800,900,100italic,300italic,400italic,500italic,700italic,800italic,900italic' rel='stylesheet' type='text/css'>\n",
       "<link href='http://fonts.googleapis.com/css?family=Source+Code+Pro:300,400' rel='stylesheet' type='text/css'>\n",
       "\n",
       "<style>\n",
       "\n",
       "/*\n",
       "Template for Notebooks for ModelaciÃ³n computacional.\n",
       "\n",
       "Based on Lorena Barba template available at:\n",
       "\n",
       "    https://github.com/barbagroup/AeroPython/blob/master/styles/custom.css\n",
       "*/\n",
       "\n",
       "/* Fonts */\n",
       "@font-face {\n",
       "font-family: \"Computer Modern\";\n",
       "src: url('http://mirrors.ctan.org/fonts/cm-unicode/fonts/otf/cmunss.otf');\n",
       "}\n",
       "\n",
       "/* Text */\n",
       "div.cell{\n",
       "width:800px;\n",
       "margin-left:16% !important;\n",
       "margin-right:auto;\n",
       "}\n",
       "h1 {\n",
       "font-family: 'Alegreya Sans', sans-serif;\n",
       "}\n",
       "h2 {\n",
       "font-family: 'Fenix', serif;\n",
       "}\n",
       "h3{\n",
       "font-family: 'Fenix', serif;\n",
       "margin-top:12px;\n",
       "margin-bottom: 3px;\n",
       "}\n",
       "h4{\n",
       "font-family: 'Fenix', serif;\n",
       "}\n",
       "h5 {\n",
       "font-family: 'Alegreya Sans', sans-serif;\n",
       "}\t\n",
       "div.text_cell_render{\n",
       "font-family: 'Alegreya Sans',Computer Modern, \"Helvetica Neue\", Arial, Helvetica, Geneva, sans-serif;\n",
       "line-height: 135%;\n",
       "font-size: 120%;\n",
       "width:600px;\n",
       "margin-left:auto;\n",
       "margin-right:auto;\n",
       "}\n",
       ".CodeMirror{\n",
       "font-family: \"Source Code Pro\";\n",
       "font-size: 90%;\n",
       "}\n",
       "/* .prompt{\n",
       "display: None;\n",
       "}*/\n",
       ".text_cell_render h1 {\n",
       "font-weight: 200;\n",
       "font-size: 50pt;\n",
       "line-height: 100%;\n",
       "color:#CD2305;\n",
       "margin-bottom: 0.5em;\n",
       "margin-top: 0.5em;\n",
       "display: block;\n",
       "}\t\n",
       ".text_cell_render h5 {\n",
       "font-weight: 300;\n",
       "font-size: 16pt;\n",
       "color: #CD2305;\n",
       "font-style: italic;\n",
       "margin-bottom: .5em;\n",
       "margin-top: 0.5em;\n",
       "display: block;\n",
       "}\n",
       ".warning{\n",
       "color: rgb( 240, 20, 20 )\n",
       "}\n",
       "</style>\n",
       "\n",
       "<script>\n",
       "/* Equations */\n",
       "\n",
       "MathJax.Hub.Config({\n",
       "TeX: {\n",
       "extensions: [\"AMSmath.js\"]\n",
       "},\n",
       "tex2jax: {\n",
       "inlineMath: [ ['$','$'], [\"\\\\(\",\"\\\\)\"] ],\n",
       "displayMath: [ ['$$','$$'], [\"\\\\[\",\"\\\\]\"] ]\n",
       "},\n",
       "displayAlign: 'center', // Change this to 'center' to center equations.\n",
       "\"HTML-CSS\": {\n",
       "styles: {'.MathJax_Display': {\"margin\": 4}}\n",
       "}\n",
       "});\n",
       "</script>\n",
       "\n",
       "\n"
      ],
      "text/plain": [
       "<IPython.core.display.HTML object>"
      ]
     },
     "execution_count": 16,
     "metadata": {},
     "output_type": "execute_result"
    }
   ],
   "source": [
    "from IPython.core.display import HTML\n",
    "def css_styling():\n",
    "    styles = open('./nb_style.css', 'r').read()\n",
    "    return HTML(styles)\n",
    "css_styling()"
   ]
  }
 ],
 "metadata": {
  "celltoolbar": "Raw Cell Format",
  "kernelspec": {
   "display_name": "Python 3",
   "language": "python",
   "name": "python3"
  },
  "language_info": {
   "codemirror_mode": {
    "name": "ipython",
    "version": 3
   },
   "file_extension": ".py",
   "mimetype": "text/x-python",
   "name": "python",
   "nbconvert_exporter": "python",
   "pygments_lexer": "ipython3",
   "version": "3.7.3"
  },
  "varInspector": {
   "cols": {
    "lenName": 16,
    "lenType": 16,
    "lenVar": 40
   },
   "kernels_config": {
    "python": {
     "delete_cmd_postfix": "",
     "delete_cmd_prefix": "del ",
     "library": "var_list.py",
     "varRefreshCmd": "print(var_dic_list())"
    },
    "r": {
     "delete_cmd_postfix": ") ",
     "delete_cmd_prefix": "rm(",
     "library": "var_list.r",
     "varRefreshCmd": "cat(var_dic_list()) "
    }
   },
   "types_to_exclude": [
    "module",
    "function",
    "builtin_function_or_method",
    "instance",
    "_Feature"
   ],
   "window_display": false
  }
 },
 "nbformat": 4,
 "nbformat_minor": 1
}
